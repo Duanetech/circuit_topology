{
 "metadata": {
  "language_info": {
   "codemirror_mode": {
    "name": "ipython",
    "version": 3
   },
   "file_extension": ".py",
   "mimetype": "text/x-python",
   "name": "python",
   "nbconvert_exporter": "python",
   "pygments_lexer": "ipython3",
   "version": "3.8.5-final"
  },
  "orig_nbformat": 2,
  "kernelspec": {
   "name": "python3",
   "display_name": "Python 3",
   "language": "python"
  }
 },
 "nbformat": 4,
 "nbformat_minor": 2,
 "cells": [
  {
   "cell_type": "code",
   "execution_count": 21,
   "metadata": {},
   "outputs": [],
   "source": [
    "from Bio.PDB import PDBParser,Selection\n",
    "from Bio import BiopythonWarning\n",
    "import numpy as np\n",
    "from scipy.spatial.distance import pdist, squareform\n",
    "from functions.importing.retrieve_chain import retrieve_chain\n",
    "from functions.calculating.secondary_struc_cmap import secondary_struc_cmap\n",
    "from Bio.PDB.DSSP import DSSP"
   ]
  },
  {
   "cell_type": "code",
   "execution_count": 3,
   "metadata": {},
   "outputs": [
    {
     "output_type": "execute_result",
     "data": {
      "text/plain": [
       "\"\\ncmap2 = np.zeros([nseg,nseg],dtype='int')\\n\\nfor i in range(0,natoms):\\n    for j in range(i+1,natoms):\\n        diff_res = abs(residue_number[i]-residue_number[j])\\n        \\n        if cmap[i][j] == 1  and diff_res != 1 and diff_res != 2 and diff_res != 3:\\n            seg_i = segment[residue_number[i]]\\n            seg_j = segment[residue_number[j]]\\n        \\n            if seg_i != 0 and seg_j != 0 :\\n                cmap2[seg_i-1][seg_j-1] = cmap2[seg_i-1][seg_j-1]+1\\n                    \\ncmap2 = cmap2 + cmap2.T\\n\\n#set values close to diagonal to zero\\nfor i in range(0,exclude_neighbour+1):\\n    for j in range(0,len(cmap2)-i):\\n        cmap2[j][j+i] = 0\\n        cmap2[j+i][j] = 0\\n\\ncmap3 = (cmap2 >= cutoff_numcontacts) * 1\\n\\nreturn cmap3,cmap,cmap2,s,segment,numbering\\n\""
      ]
     },
     "metadata": {},
     "execution_count": 3
    }
   ],
   "source": [
    "chain = retrieve_chain('1kyv.pdb')\n",
    "\n",
    "# H - Alpha-Helix\n",
    "# E - Extended Configuration (Beta-sheet)\n",
    "# B - Isolated Beta Bridge\n",
    "# b - Isolated Beta Bridge\n",
    "# G - 3-10 Helix\n",
    "\n",
    "ss_elements = ['H','E','B','b','G']\n",
    "cutoff_distance = 6\n",
    "cutoff_numcontacts = 10\n",
    "plot_figs = 1\n",
    "exclude_neighbour = 0\n",
    "\n",
    "struc = []\n",
    "seq = []\n",
    "\n",
    "with open('/Users/duanemoes/Desktop/Desktop/RP1/Code/python/circuit_topology/input_files/stride/1kyvstride.txt',\"r\") as f:\n",
    "    for line in f:\n",
    "        if line[0:3] == \"SEQ\":\n",
    "            seq.append(line[10:60].strip())\n",
    "        if line[0:3] == \"STR\":\n",
    "            struc.append(line[10:60])\n",
    "        if line[0:3] == \"LOC\":\n",
    "            break\n",
    "\n",
    "struc = ''.join(struc)\n",
    "seq = ''.join(seq)\n",
    "\n",
    "if len(struc) > len(seq):\n",
    "    struc = struc[0:len(seq)]\n",
    "\n",
    "struc_length = len(struc)\n",
    "\n",
    "protid = chain.get_parent().get_parent().id\n",
    "\n",
    "#Get a list of the residues and atoms\n",
    "res_list = Selection.unfold_entities(chain,\"R\")\n",
    "atom_list = Selection.unfold_entities(chain,\"A\")\n",
    "\n",
    "#Make list of the atom information\n",
    "residue_number = np.zeros(len(atom_list),dtype='int')\n",
    "res_names = []\n",
    "atom_names = []\n",
    "coords = np.zeros([len(atom_list),3])\n",
    "y = np.zeros(len(atom_list),dtype='int')\n",
    "\n",
    "for res in res_list:\n",
    "    res_names.append(res.get_resname())\n",
    "\n",
    "for num, atom in enumerate(atom_list):\n",
    "    residue_number[num] = atom.get_parent().get_id()[1]\n",
    "    coords[num] = atom.get_coord()\n",
    "    atom_names.append(atom.get_name())\n",
    "    y[num] = num\n",
    "\n",
    "numbering = list(range(residue_number[0],residue_number[-1]+1))\n",
    "residue_number = residue_number - numbering[0] \n",
    "natoms = len(residue_number)\n",
    "\n",
    "nseg = 1\n",
    "segment = np.zeros([struc_length],dtype='int')\n",
    "\n",
    "for i in range(0,struc_length):\n",
    "    if struc[i] in ss_elements:\n",
    "        segment[i] = nseg\n",
    "        if i == struc_length:\n",
    "            nseg = nseg + 1\n",
    "        elif struc[i+1] != struc[i]:\n",
    "            nseg = nseg + 1\n",
    "nseg = nseg - 1\n",
    "\n",
    "#atom-atom based contact map\n",
    "cmap = squareform(pdist(coords))\n",
    "cmap = (cmap < cutoff_distance) * 1\n",
    "\n",
    "cmap2 = np.zeros([nseg,nseg],dtype='int')\n",
    "\n",
    "for i in range(0,natoms):\n",
    "    for j in range(i+1,natoms):\n",
    "        diff_res = abs(residue_number[i]-residue_number[j])\n",
    "        \n",
    "        if cmap[i][j] == 1  and diff_res != 1 and diff_res != 2 and diff_res != 3:\n",
    "            seg_i = segment[residue_number[i]]\n",
    "            seg_j = segment[residue_number[j]]\n",
    "        \n",
    "            if seg_i != 0 and seg_j != 0 :\n",
    "                cmap2[seg_i-1][seg_j-1] = cmap2[seg_i-1][seg_j-1]+1\n",
    "                    \n",
    "cmap2 = cmap2 + cmap2.T\n",
    "\n",
    "#set values close to diagonal to zero\n",
    "for i in range(0,exclude_neighbour+1):\n",
    "    for j in range(0,len(cmap2)-i):\n",
    "        cmap2[j][j+i] = 0\n",
    "        cmap2[j+i][j] = 0\n",
    "\n",
    "cmap3 = (cmap2 >= cutoff_numcontacts) * 1\n",
    "\n",
    "return cmap3,cmap,cmap2,s,segment,numbering\n"
   ]
  },
  {
   "cell_type": "code",
   "execution_count": 15,
   "metadata": {},
   "outputs": [],
   "source": [
    "chain = retrieve_chain('1kyv.pdb')\n",
    "ss_elements = ['H','E','B','b','G']\n",
    "cutoff_distance = 4.5\n",
    "cutoff_numcontacts = 5\n",
    "exclude_neighbour = 4\n",
    "\n",
    "#Get a list of the residues and atoms\n",
    "res_list = Selection.unfold_entities(chain,\"R\")\n",
    "atom_list = Selection.unfold_entities(chain,\"A\")\n",
    "\n",
    "#Make list of the atom information\n",
    "residue_number = np.zeros(len(atom_list),dtype='int')\n",
    "res_names = []\n",
    "atom_names = []\n",
    "coords = np.zeros([len(atom_list),3])\n",
    "y = np.zeros(len(atom_list),dtype='int')\n",
    "res_names = []\n",
    "\n",
    "for res in res_list:\n",
    "    res_names.append(res.get_resname())\n",
    "\n",
    "for num, atom in enumerate(atom_list):\n",
    "    residue_number[num] = atom.get_parent().get_id()[1]\n",
    "    coords[num] = atom.get_coord()\n",
    "    atom_names.append(atom.get_name())\n",
    "    y[num] = num\n",
    "    \n",
    "numbering = list(range(residue_number[0],residue_number[-1]+1))\n",
    "residue_number = residue_number - numbering[0] \n",
    "\n",
    "#divide into segments based on residue\n",
    "nseg = len(numbering)\n",
    "segment = list(range(0,nseg+1))\n",
    "\n",
    "#delete duplicate atoms due to multiple occupancy\n",
    "duplicate = np.zeros(len(atom_list),dtype='int')\n",
    "for i in range(1,len(duplicate)):\n",
    "    if residue_number[i] == residue_number[i-1] and atom_names[i] == atom_names[i-1]:\n",
    "        duplicate[i] = 1\n",
    "\n",
    "\n",
    "residue_number = residue_number[np.where(duplicate != 1)]\n",
    "coords = coords[np.where(duplicate != 1)]\n",
    "\n",
    "#atom-atom based contact map\n",
    "cmap = squareform(pdist(coords))\n",
    "natoms = len(residue_number)\n",
    "\n",
    "cmap = (cmap < cutoff_distance) * 1\n",
    "\n",
    "#segment-segment based contact map, based on atom-atom based contact map\n",
    "cmap2 = np.zeros([nseg,nseg],dtype='int')\n",
    "\n",
    "for i in range(0,natoms):\n",
    "    for j in range(i+1,natoms):\n",
    "            \n",
    "        seg_i = segment[residue_number[i]]\n",
    "        seg_j = segment[residue_number[j]]\n",
    "       \n",
    "        if cmap[i][j] == 1:\n",
    "                cmap2[seg_i][seg_j] = cmap2[seg_i][seg_j]+1\n",
    "\n",
    "cmap2 = cmap2 + cmap2.T\n",
    "\n",
    "#set values close to diagonal to zero\n",
    "for i in range(0,exclude_neighbour+1):\n",
    "    for j in range(0,len(cmap2)-i):\n",
    "        cmap2[j][j+i] = 0\n",
    "        cmap2[j+i][j] = 0\n",
    "\n",
    "cmap3 = (cmap2 >= cutoff_numcontacts) * 1\n",
    "\n",
    "#import secondary structure information\n",
    "struc = []\n",
    "seq = []\n",
    "\n",
    "with open('/Users/duanemoes/Desktop/Desktop/RP1/Code/python/circuit_topology/input_files/stride/1kyvstride.txt',\"r\") as f:\n",
    "    for line in f:\n",
    "        if line[0:3] == \"SEQ\":\n",
    "            seq.append(line[10:60].strip())\n",
    "        if line[0:3] == \"STR\":\n",
    "            struc.append(line[10:60])\n",
    "        if line[0:3] == \"LOC\":\n",
    "            break\n",
    "\n",
    "struc = ''.join(struc)\n",
    "seq = ''.join(seq)\n",
    "\n",
    "if len(struc) > len(seq):\n",
    "    struc = struc[0:len(seq)]\n",
    "\n",
    "struc_length = len(struc)\n",
    "\n",
    "nstruc = 1\n",
    "struc_id = np.zeros([struc_length],dtype='int')\n",
    "\n",
    "for i in range(0,struc_length):\n",
    "    if struc[i] in ss_elements:\n",
    "        struc_id[i] = nstruc\n",
    "        if i == struc_length:\n",
    "            nstruc = nstruc + 1\n",
    "        elif struc[i+1] != struc[i]:\n",
    "            nstruc = nstruc + 1\n",
    "nstruc = nstruc - 1\n",
    "\n"
   ]
  },
  {
   "cell_type": "code",
   "execution_count": 19,
   "metadata": {},
   "outputs": [],
   "source": [
    "cmap4 = np.array(cmap3,copy=True)\n",
    "filtered_structures = ['H','G']\n",
    "for i in range(len(cmap3)):\n",
    "    for j in range(len(cmap3)):\n",
    "        if cmap3[i][j] == 1:\n",
    "            if struc_id[i] == struc_id[j] and struc[i] in filtered_structures:\n",
    "                cmap4[i][j] = 0"
   ]
  },
  {
   "cell_type": "code",
   "execution_count": 52,
   "metadata": {},
   "outputs": [],
   "source": [
    "chain = retrieve_chain('1kyv.pdb')\n"
   ]
  },
  {
   "cell_type": "code",
   "execution_count": 53,
   "metadata": {},
   "outputs": [],
   "source": [
    "test = chain.get_parent()"
   ]
  },
  {
   "cell_type": "code",
   "execution_count": 55,
   "metadata": {},
   "outputs": [],
   "source": [
    "sell = DSSP(test,'input_files/pdb/1kyv.pdb')"
   ]
  },
  {
   "cell_type": "code",
   "execution_count": 56,
   "metadata": {},
   "outputs": [],
   "source": [
    "test1 = list(sell)[:147]\n",
    "test12 = [seq[1] for seq in test1]\n",
    "test123 = [seq[2] for seq in test1]"
   ]
  },
  {
   "cell_type": "code",
   "execution_count": 40,
   "metadata": {},
   "outputs": [],
   "source": []
  },
  {
   "cell_type": "code",
   "execution_count": 47,
   "metadata": {},
   "outputs": [
    {
     "output_type": "stream",
     "name": "stdout",
     "text": [
      "DLKGPELRILIVHARWNLQAIEPLVKGAVETMIEKHDVKLENIDIESVPGSWELPQGIRASIARNTYDAVIGIGVLIKGSTMHFEYISEAVVHGLMRVGLDSGVPVILGLLTVLNEEQALYRAGLNGGHNHGNDWGSAAVEMGLKAL\n"
     ]
    }
   ],
   "source": [
    "print(seq)"
   ]
  },
  {
   "cell_type": "code",
   "execution_count": 60,
   "metadata": {},
   "outputs": [
    {
     "output_type": "stream",
     "name": "stdout",
     "text": [
      "----TT--EEEEE--TTHHHHHHHHHHHHHHHHHHH---GGGEEEEE-SSGGGHHHHHHHHHHHS--SEEEEEEEEE--SSSHHHHHHHHHHHHHHHHHHHH---EEEEEEEESSHHHHHHTBT-TT--BHHHHHHHHHHHHHHHT-\n   TTTT EEEEE TTTHHHHHHHHHHHHHHHHHHH   GGGEEEEE   GGGHHHHHHHHHHH    EEEEEEEEE    HHHHHHHHHHHHHHHHHHHHH   EEEEEEEE  HHHHHHH TTTTT  HHHHHHHHHHHHHHHH \n"
     ]
    }
   ],
   "source": [
    "print(''.join(test123))\n",
    "print(struc)"
   ]
  },
  {
   "cell_type": "code",
   "execution_count": null,
   "metadata": {},
   "outputs": [],
   "source": []
  }
 ]
}