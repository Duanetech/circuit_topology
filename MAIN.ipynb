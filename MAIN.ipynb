{
 "metadata": {
  "language_info": {
   "codemirror_mode": {
    "name": "ipython",
    "version": 3
   },
   "file_extension": ".py",
   "mimetype": "text/x-python",
   "name": "python",
   "nbconvert_exporter": "python",
   "pygments_lexer": "ipython3",
   "version": "3.8.5-final"
  },
  "orig_nbformat": 2,
  "kernelspec": {
   "name": "python3",
   "display_name": "Python 3"
  }
 },
 "nbformat": 4,
 "nbformat_minor": 2,
 "cells": [
  {
   "cell_type": "code",
   "execution_count": 20,
   "metadata": {},
   "outputs": [],
   "source": [
    "from functions.plots import circuit_plot,matrix_plot,stats_plot\n",
    "from functions.calculating import get_cmap,get_matrix,get_stats, energy_cmap\n",
    "from functions.importing import retrieve_chain,retrieve_cif\n",
    "import os\n",
    "\n",
    "fileformat = input('cif or pdb? (cif/pdb) \\n')\n",
    "if fileformat == 'cif':\n",
    "    dlinput = input('Do you want to fetch CIF\\'s from Database? pdblist.txt (y/n) \\n')\n",
    "    if dlinput:  \n",
    "        efiltering  = input('apply energy filtering? (y/n)\\n')\n",
    "            if efiltering == 'y':\n",
    "                potsign = input('positive or negative filtering? (+/-)')\n",
    "                if potsign == '+':\n",
    "                    potential_sign = 1\n",
    "                else:\n",
    "                    potential_sign = 0\n",
    "else:\n",
    "    efiltering  = input('apply energy filtering? (y/n)\\n')\n",
    "    dlinput = 'n'\n",
    "\n",
    "#Enter a list with protein names that need to be downloaded (pdblist.txt)\n",
    "if dlinput == 'y':  \n",
    "    retrieve_cif.retrieve_cif()"
   ]
  },
  {
   "cell_type": "code",
   "execution_count": 21,
   "metadata": {},
   "outputs": [],
   "source": [
    "for files in os.listdir('input_files/' +fileformat):\n",
    "    \n",
    "    chain = retrieve_chain.retrieve_chain(files)\n",
    "    \n",
    "    #Step 1 - Draw a segment-segment based contact map (if length_filtering > 0, it is activated, input is the max distance)\n",
    "    cmap3, cmap2, protid ,numbering, res_names = get_cmap.get_cmap(chain,length_filtering=0,cutoff_distance=3.6,cutoff_numcontacts=3)\n",
    "\n",
    "    #Step 1.5 - Energy filteringcif\n",
    "    if efiltering == 'y':\n",
    "        cmap3 = energy_cmap.energy_cmap(cmap3,numbering,res_names,potential_sign)\n",
    "        protid = protid + '_ef'\n",
    "\n",
    "    #Step 2 - Draw a circuit topology relations matrix\n",
    "    mat, c = get_matrix.get_matrix(cmap3,protid)\n",
    "\n",
    "    #Step 3 - Circuit topology statistics\n",
    "    psc, entangled = get_stats.get_stats(mat,protid)\n",
    "\n",
    "     #Plots\n",
    "    circuit_plot.circuit_plot(cmap2,protid,numbering)\n",
    "    matrix_plot.matrix_plot(mat,protid)\n",
    "    stats_plot.stats_plot(entangled,psc,protid)"
   ]
  },
  {
   "cell_type": "code",
   "execution_count": null,
   "metadata": {},
   "outputs": [],
   "source": []
  }
 ]
}