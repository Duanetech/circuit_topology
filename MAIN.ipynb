{
 "cells": [
  {
   "cell_type": "markdown",
   "metadata": {},
   "source": [
    "# <center>Circuit Topology script V1.0</center>\n",
    "\n",
    "<center>Duane Moes - For suggestions and further questions: moesduane@gmail.com </center>\n",
    "\n",
    "---\n",
    "This is a fully automated script that mainly utilizes biopython to perform circuit topology analysis on a given set of proteins. When possible, try to use the mmCIF file system instead of the PDB file option, this is because PDB is outdated and more prone to missing atoms etc.\n",
    "\n",
    "#### Packages used\n",
    "<ul><li>BioPython</li>\n",
    "<li>SciPy </li>\n",
    "<li>NumPy</li>\n",
    "<li>MatPlotlib</li>\n",
    "<li>DSSP</li>\n",
    "<li>Ipympl</li>\n",
    "<li>ipywidgets</li>\n",
    "</ul>\n",
    "\n",
    "\n",
    "  \n",
    "Run the code below to install all the needed dependencies. (only once!) <br>\n",
    "\n",
    "      \n"
   ]
  },
  {
   "cell_type": "code",
   "execution_count": 18,
   "metadata": {},
   "outputs": [
    {
     "name": "stdout",
     "output_type": "stream",
     "text": [
      "Collecting package metadata (current_repodata.json): done\n",
      "Solving environment: done\n",
      "\n",
      "# All requested packages already installed.\n",
      "\n",
      "\n",
      "Note: you may need to restart the kernel to use updated packages.\n"
     ]
    }
   ],
   "source": [
    "%conda install --file requirements.txt"
   ]
  },
  {
   "cell_type": "markdown",
   "metadata": {},
   "source": [
    "### User guide\n",
    "<ul>\n",
    "    <li>Either copy your <code>.PDB</code> or <code>.CIF </code> files to their respective maps in <code>/input_files/</code>, or enter the 4 letter protein codes in <code>input_files/protlist.txt</code> and run the first code block.\n",
    "</li>\n",
    "</ul>\n",
    "<i>NOTE that when using a large number of proteins (>50), it is more efficient to use the batch download function from the </i>\n",
    "\n",
    "__[RCSB Db](https://www.rcsb.org/downloads)__"
   ]
  },
  {
   "cell_type": "code",
   "execution_count": 5,
   "metadata": {},
   "outputs": [],
   "source": [
    "from functions.plots import circuit_plot,matrix_plot,stats_plot, notebook_ui\n",
    "from functions.calculating import get_cmap,get_matrix,get_stats, energy_cmap, string_pdb, secondary_struc_cmap, secondary_struc_filter\n",
    "from functions.importing import retrieve_chain,retrieve_cif, retrieve_secondary_struc\n",
    "from ipywidgets import widgets\n",
    "import numpy as np \n",
    "import os\n",
    "import matplotlib\n",
    "import sys\n",
    "%matplotlib qt"
   ]
  },
  {
   "cell_type": "markdown",
   "metadata": {},
   "source": [
    "<ul><li>Enter the file type you're using, if you want to downoad the files you've entered in <code>input_files/protlist.txt</code>, indicate it here. </li></ul>"
   ]
  },
  {
   "cell_type": "code",
   "execution_count": 2,
   "metadata": {},
   "outputs": [
    {
     "name": "stdout",
     "output_type": "stream",
     "text": [
      "cif or pdb? (cif/pdb) \n",
      "cif\n",
      "Do you want to fetch CIF's from Database? protlist.txt (y/n) \n",
      "n\n",
      "apply energy filtering? (y/n)\n",
      "n\n"
     ]
    }
   ],
   "source": [
    "fileformat = input('cif or pdb? (cif/pdb) \\n')\n",
    "if fileformat == 'cif':\n",
    "    dlinput = input('Do you want to fetch CIF\\'s from Database? protlist.txt (y/n) \\n')\n",
    "    if dlinput:  \n",
    "        efiltering = input('apply energy filtering? (y/n)\\n')\n",
    "        if efiltering == 'y':\n",
    "            potsign = input('positive or negative filtering? (+/-)')\n",
    "            if potsign == '+':\n",
    "                potential_sign = 1\n",
    "            else:\n",
    "                potential_sign = 0\n",
    "else:\n",
    "    efiltering  = input('apply energy filtering? (y/n)\\n')\n",
    "    dlinput = 'n'\n",
    "\n",
    "#Enter a list with protein names that need to be downloaded (pdblist.txt)\n",
    "if dlinput == 'y':  \n",
    "    retrieve_cif.retrieve_cif()"
   ]
  },
  {
   "cell_type": "markdown",
   "metadata": {},
   "source": [
    "***Variable input***<br>\n",
    "<code>cutoff_distance</code>, maximal distance (Ångström) between two atoms that will count as an atom-atom contact.<br> \n",
    "<code>cutoff_numcontacts</code>, minimum number of contacts between two residues to count as a res-res contact. <br>\n",
    "<code>length_filtering</code>, if length_filtering > 0, it is activated, input is the max contact distance. <br> \n",
    "<code>exclude_neighbour</code>, number of neighbours that are excluded from possbile res-res contacts. <br>\n",
    "When <code>plot_figures = 1</code>, figures will also be saved in <code>results/</code>.<br>\n",
    "<code>export_psc</code>, whether to export the resulting PSC stats to a txt file.\n"
   ]
  },
  {
   "cell_type": "code",
   "execution_count": 3,
   "metadata": {},
   "outputs": [],
   "source": [
    "cutoff_distance =       3.6\n",
    "cutoff_numcontacts =    3\n",
    "length_filtering =      0\n",
    "exclude_neighbour =     4\n",
    "plot_figures =          1\n",
    "export_psc =            0"
   ]
  },
  {
   "cell_type": "markdown",
   "metadata": {},
   "source": [
    "***cmap***    - Atom-Atom contact map (<i>cutoff_distance</i>)<br>\n",
    "***cmap2***  - Res-Res contact map<br>\n",
    "***cmap3***  - Boolean Res-Res contact map (<i>cutoff_numcontacts</i>)<br>\n",
    "***cmap4***  - Boolean Res-Res contact map with indicated secondary structures filtered out <br>\n",
    "***cmap5***  - Boolean Secondary Structure - Secondary Structure contact map<br>\n"
   ]
  },
  {
   "cell_type": "code",
   "execution_count": 4,
   "metadata": {},
   "outputs": [
    {
     "name": "stdout",
     "output_type": "stream",
     "text": [
      "1a5v.cif\n"
     ]
    }
   ],
   "source": [
    "number_of_files = len(os.listdir('input_files/' +fileformat))\n",
    "\n",
    "psclist = []\n",
    "\n",
    "for num,files in enumerate(os.listdir('input_files/' +fileformat)):\n",
    "    \n",
    "    try:\n",
    "        chain,file_path = retrieve_chain.retrieve_chain(files)\n",
    "        print(f'{files}')\n",
    "    except:\n",
    "        continue\n",
    "\n",
    "    #Step 1 - Draw a segment-segment based contact map \n",
    "    cmap3, cmap2, protid ,numbering, res_names, = get_cmap.get_cmap(chain, \n",
    "                                                                    cutoff_distance, \n",
    "                                                                    cutoff_numcontacts, \n",
    "                                                                    length_filtering, \n",
    "                                                                    exclude_neighbour)\n",
    "\n",
    "    #Step 1.5 - Energy filtering\n",
    "    if efiltering == 'y':\n",
    "        cmap3 = energy_cmap.energy_cmap(cmap3,numbering,res_names,potential_sign)\n",
    "        protid = protid + '_(' + potsign + ')ef'\n",
    "    \n",
    "    #Step 2 - Draw a circuit topology relations matrix\n",
    "    mat, c = get_matrix.get_matrix(cmap3,protid)\n",
    "    \n",
    "    #Step 3 - Circuit topology statistics\n",
    "    psc, entangled = get_stats.get_stats(mat,protid)\n",
    "    psclist.append([protid,psc])\n",
    "    \n",
    "    #plotting\n",
    "    \n",
    "    sitelist = circuit_plot.circuit_plot(cmap2,protid,numbering,cutoff_numcontacts)\n",
    "    matrix_plot.matrix_plot(mat,protid)\n",
    "    stats_plot.stats_plot(entangled,psc,protid)\n",
    "        \n",
    "    #exporting    \n",
    "    #while export_psc:\n",
    "        #with open('pscresults.txt',\"w\") as f:\n",
    "        #for row in psclist:\n",
    "            #f.write('%s %i %i %i\\n' % (row[0],row[1][0],row[1][1],row[1][2]))"
   ]
  },
  {
   "cell_type": "markdown",
   "metadata": {},
   "source": [
    "### Secondary structure tool\n",
    "This function uses the DSSP tool to calculate the protein's secondary structure. <br> ***NOTE*** STRIDE and DSSP agree in 95,4% of the cases, DSSP tends to assign shorter secondary structures.  <br>https://en.wikipedia.org/wiki/STRIDE <br> \n",
    "\n",
    "It can be used to build a Sec. Struc - Sec. struc contact map, or filter out res-res contacts within a secondary structure.\n",
    "\n",
    "* H - Alpha-Helix\n",
    "* B - Isolated Beta-Bridge\n",
    "* E - Strand\n",
    "* G - 3-10 Helix\n",
    "* I - Pi helix\n",
    "* T - Turn\n",
    "* S - Bend"
   ]
  },
  {
   "cell_type": "code",
   "execution_count": 9,
   "metadata": {},
   "outputs": [],
   "source": [
    "sequence, structure = retrieve_secondary_struc.retrieve_secondary_struc(chain,file_path)"
   ]
  },
  {
   "cell_type": "markdown",
   "metadata": {},
   "source": [
    "The following function uses the secondary structure to create a secondary structure-secondary structure based cmap (cmap5).<br> Keep in mind that this function overwrites certain variables."
   ]
  },
  {
   "cell_type": "code",
   "execution_count": null,
   "metadata": {},
   "outputs": [],
   "source": [
    "cmap5,struc,segment,numbering = secondary_struc_cmap.secondary_struc.cmap(chain,\n",
    "                                                                          seq,\n",
    "                                                                          struc,\n",
    "                                                                          cutoff_distance = 6,\n",
    "                                                                          cutoff_numcontacts = 10,\n",
    "                                                                          exclude_neighbour=0,\n",
    "                                                                          ss_elements = ['H','E','B','G'])"
   ]
  },
  {
   "cell_type": "markdown",
   "metadata": {},
   "source": [
    "This function takes in a res-res contact map and filters out contacts that are within specified secondary structures,<code>filtered_structures</code>."
   ]
  },
  {
   "cell_type": "code",
   "execution_count": null,
   "metadata": {},
   "outputs": [],
   "source": [
    "cmap4 = secondary_struc_filter.secondary_struc_filter(cmap3,\n",
    "                                                      struc,\n",
    "                                                      filtered_structures = ['H','G'],\n",
    "                                                      ss_elements = ['H','E','B','G'])"
   ]
  }
 ],
 "metadata": {
  "kernelspec": {
   "display_name": "Python 3",
   "language": "python",
   "name": "python3"
  },
  "language_info": {
   "codemirror_mode": {
    "name": "ipython",
    "version": 3
   },
   "file_extension": ".py",
   "mimetype": "text/x-python",
   "name": "python",
   "nbconvert_exporter": "python",
   "pygments_lexer": "ipython3",
   "version": "3.8.5"
  }
 },
 "nbformat": 4,
 "nbformat_minor": 4
}
