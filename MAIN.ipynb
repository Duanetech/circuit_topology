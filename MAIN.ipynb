{
 "cells": [
  {
   "cell_type": "markdown",
   "metadata": {},
   "source": [
    "# <center>Circuit Topology script V2.0</center>\n",
    "\n",
    "<center>Duane Moes - For suggestions and further questions: moesduane@gmail.com </center><br>\n",
    "<center>Github:   <a href=\"url\" target=\"https://github.com/Duanetech/circuit_topology\">github.com/Duanetech/circuit_topology</a></center>\n",
    "\n",
    "\n",
    "---\n",
    "This is a fully automated script that mainly utilizes biopython to perform circuit topology analysis on a given set of proteins. When possible, try to use the mmCIF file system instead of the PDB file option, this is because PDB is outdated and more prone to missing atoms etc.This script serves as an example, you can always create your own loop and use the functions separately if you want to. See the README for installation help and documentation of the functions. If a new update comes out, use the download code option on the github page.\n",
    "\n",
    "#### Packages used\n",
    "<ul><li>BioPython</li>\n",
    "    <li>Pandas</li>\n",
    "<li>SciPy </li>\n",
    "<li>NumPy</li>\n",
    "<li>MatPlotlib</li>\n",
    "<li>DSSP</li>\n",
    "</ul>\n",
    "\n",
    "\n",
    "  \n",
    "Run the code below to install all the needed dependencies (only once!).<br> Warning: This can take a while, if it has finished you can delete the code block.  \n",
    "\n",
    "      \n"
   ]
  },
  {
   "cell_type": "code",
   "execution_count": null,
   "metadata": {
    "jupyter": {
     "source_hidden": true
    },
    "tags": []
   },
   "outputs": [],
   "source": [
    "!conda env update --file requirements.yml"
   ]
  },
  {
   "cell_type": "markdown",
   "metadata": {},
   "source": [
    "#### Importing\n",
    "These are import statements, you have to run this codeblock everytime you restart and/or quit Jupyter. "
   ]
  },
  {
   "cell_type": "code",
   "execution_count": null,
   "metadata": {
    "tags": []
   },
   "outputs": [],
   "source": [
    "from functions.plots.circuit_plot import circuit_plot\n",
    "from functions.plots.matrix_plot import matrix_plot\n",
    "from functions.plots.stats_plot import stats_plot\n",
    "from functions.plots.matrix_plot_model import matrix_plot_model\n",
    "\n",
    "from functions.calculating.get_cmap import get_cmap\n",
    "from functions.calculating.get_matrix import get_matrix\n",
    "from functions.calculating.get_stats import get_stats\n",
    "from functions.calculating.energy_cmap import energy_cmap\n",
    "from functions.calculating.string_pdb import string_pdb\n",
    "from functions.calculating.secondary_struc_cmap import secondary_struc_cmap\n",
    "from functions.calculating.secondary_struc_filter import secondary_struc_filter\n",
    "from functions.calculating.glob_score import glob_score\n",
    "from functions.calculating.length_filter import length_filter\n",
    "\n",
    "from functions.importing.retrieve_chain import retrieve_chain\n",
    "from functions.importing.retrieve_cif import retrieve_cif\n",
    "from functions.importing.retrieve_cif_list import retrieve_cif_list\n",
    "from functions.importing.retrieve_secondary_struc import retrieve_secondary_struc\n",
    "from functions.importing.stride_secondary_struc import stride_secondary_struc\n",
    "\n",
    "from functions.exporting.export_psc import export_psc\n",
    "from functions.exporting.export_cmap3 import export_cmap3\n",
    "from functions.exporting.export_mat import export_mat\n",
    "from functions.exporting.export_cmap4 import export_cmap4\n",
    "from functions.exporting.export_circuit import export_circuit\n",
    "\n",
    "from ipywidgets import widgets\n",
    "import numpy as np \n",
    "import pandas as pd\n",
    "import os\n",
    "import matplotlib\n",
    "%matplotlib"
   ]
  },
  {
   "cell_type": "markdown",
   "metadata": {},
   "source": [
    "## <center> User guide </center>\n",
    "<ul>\n",
    "    <li>Either copy your <code>.PDB</code> or <code>.CIF </code> files to their respective maps in <code>/input_files/</code>, or use the retrieve CIF function to download them.\n",
    "</li>\n",
    "</ul>\n",
    "\n",
    "#### Retrieving CIF files\n",
    "These Functions will automatically download the specified mmCIF files from RCSB PDB to their respective maps in <code>/input_files/</code>. <br>\n",
    "\n",
    "<i>NOTE that when using a large number of proteins (>50), it is more efficient to use the batch download function from the <a href=\"url\" target=\"https://www.rcsb.org/downloads\">RCSB Db</a> </i><br>\n",
    "\n",
    "* Use the following function to download a single mmCif file by entering the protein ID <br>"
   ]
  },
  {
   "cell_type": "code",
   "execution_count": 20,
   "metadata": {},
   "outputs": [
    {
     "name": "stdout",
     "output_type": "stream",
     "text": [
      "Downloading PDB structure '1bni'...\n"
     ]
    }
   ],
   "source": [
    "retrieve_cif('1bni')"
   ]
  },
  {
   "cell_type": "markdown",
   "metadata": {},
   "source": [
    "* The following function Downloads all of the mmCIF files specified in <code>input_files/protlist.txt</code>"
   ]
  },
  {
   "cell_type": "code",
   "execution_count": 162,
   "metadata": {},
   "outputs": [
    {
     "name": "stdout",
     "output_type": "stream",
     "text": [
      "Downloading PDB structure '4chj'...\n",
      "Downloading PDB structure '1a6n'...\n"
     ]
    }
   ],
   "source": [
    "retrieve_cif_list()"
   ]
  },
  {
   "cell_type": "markdown",
   "metadata": {},
   "source": [
    " \n",
    "####  ***Variable input*** \n",
    "These are variables used for the **Main** script. <br> It is also possible to create your own loop and see the README manual for all the functions.\n",
    " \n",
    "<ul>\n",
    "<li><code>fileformat</code> Preferred filetype, CIF is recommendend because of a possibility of missing atoms occuring in PDB files. <br></li>\n",
    "    \n",
    "  <br>\n",
    "<li><code>cutoff_distance</code>, maximal distance (Ångström) between two atoms that will count as an atom-atom contact.<br> </li>\n",
    "<li><code>cutoff_numcontacts</code>, minimum number of contacts between two residues to count as a res-res contact. <br></li>\n",
    "<li><code>exclude_neighbour</code>, number of neighbours that are excluded from possbile res-res contacts. <br></li>\n",
    "    <br>\n",
    "<li><code>length_filtering</code> (0/1), activates length filtering.\n",
    "<li><code>filtering_distance</code>, specify which max/min distance you want to use.\n",
    "<li><code>length_mode</code> specifies whether you want short range filtering or long range filtering.\n",
    "    <br>\n",
    "    <br>\n",
    "<li><code>energy_filtering</code>(0/1), activates energy filtering.</li>\n",
    " <li><code>energy_filtering_mode</code>(+/-), sets the energy filtering mode.</li>\n",
    "<br>\n",
    "<li><code>plot_figures</code>(0/1),Plots figures when activated. Would not recommend with large amound of files.</li> \n",
    "<li><code>export_psc</code>(0/1), exporting the resulting PSC stats to a txt file located in <code>results/statistics/psc</code>       (Overwrites a previous created file)</li> \n",
    "<li><code>export_cmap3</code>(0/1), exporting the Residue contact map to a csv file located in <code>results/circuit_diagram</code></li> \n",
    "<li><code>export_mat</code>(0/1), exporting the topology relations matrix to a csv file located in <code>results/matrix</code></li>\n",
    "</ul>"
   ]
  },
  {
   "cell_type": "code",
   "execution_count": 3,
   "metadata": {},
   "outputs": [],
   "source": [
    "# Format\n",
    "fileformat =            'pdb'\n",
    "\n",
    "# CT variables\n",
    "cutoff_distance =       4.5\n",
    "cutoff_numcontacts =    5\n",
    "exclude_neighbour =     3\n",
    "\n",
    "#Length Filtering\n",
    "length_filtering =      0\n",
    "filtering_distance =    0\n",
    "length_mode =           '<'\n",
    "\n",
    "#Energy filtering\n",
    "energy_filtering =      0\n",
    "energy_filtering_mode = '+'\n",
    "\n",
    "\n",
    "# Exporting\n",
    "plot_figures =          0\n",
    "exporting_psc =         0\n",
    "exporting_cmap3 =       0\n",
    "exporting_mat   =       0"
   ]
  },
  {
   "cell_type": "markdown",
   "metadata": {},
   "source": [
    "#### <center>MAIN</center>\n",
    "-------\n"
   ]
  },
  {
   "cell_type": "markdown",
   "metadata": {},
   "source": [
    "##### Single file"
   ]
  },
  {
   "cell_type": "code",
   "execution_count": 6,
   "metadata": {},
   "outputs": [],
   "source": [
    "#Creates a chain object from a CIF/PDB file\n",
    "chain,protid = retrieve_chain('1pnj.pdb')\n",
    "\n",
    "#Step 1 - Draw a residue-residue based contact map \n",
    "index,numbering,protid,res_names = get_cmap(\n",
    "                                            chain,\n",
    "                                            cutoff_distance = cutoff_distance,\n",
    "                                            cutoff_numcontacts = cutoff_numcontacts,        \n",
    "                                            exclude_neighbour = exclude_neighbour)\n",
    "\n",
    "#Step 3 - Draw a circuit topology relations matrix\n",
    "mat, psc = get_matrix(index,protid)\n"
   ]
  },
  {
   "cell_type": "markdown",
   "metadata": {},
   "source": [
    "##### Multiple files"
   ]
  },
  {
   "cell_type": "code",
   "execution_count": null,
   "metadata": {
    "tags": []
   },
   "outputs": [],
   "source": [
    "number_of_files = len(os.listdir('input_files/' +fileformat))\n",
    "\n",
    "psclist = []\n",
    "\n",
    "for num,files in enumerate(os.listdir('input_files/' +fileformat)):\n",
    "    if files.endswith(('cif','pdb')):\n",
    "  \n",
    "        try:\n",
    "            #Creates a chain object from a CIF/PDB file\n",
    "            chain,protid = retrieve_chain(files)\n",
    "            print(f'{files} - {num+1}/{number_of_files}')\n",
    "            \n",
    "        except Exception as e:\n",
    "            \n",
    "            print(f'{files} - {e}')\n",
    "            continue\n",
    "    else:\n",
    "        continue\n",
    "        \n",
    "    #Step 1 - Draw a residue-residue based contact map \n",
    "    index,numbering,protid,res_names = get_cmap(\n",
    "                                                chain,\n",
    "                                                cutoff_distance = cutoff_distance,\n",
    "                                                cutoff_numcontacts = cutoff_numcontacts,        \n",
    "                                                exclude_neighbour = exclude_neighbour)\n",
    "    \n",
    "    #Step 1.5 - Energy filtering\n",
    "    if energy_filtering:\n",
    "        index,protid = energy_cmap(index,numbering,\n",
    "                               res_names,protid,\n",
    "                               energy_filtering_mode)    \n",
    "        \n",
    "    #Step 2 - Lenght filtering\n",
    "    if length_filtering:\n",
    "        index = length_filter(index,\n",
    "                              filtering_distance,\n",
    "                              length_mode)\n",
    "        \n",
    "    #Step 3 - Draw a circuit topology relations matrix\n",
    "    mat, psc = get_matrix(index,protid)\n",
    "    psclist.append(psc)\n",
    "    \n",
    "    #Step 4 - Circuit topology statistics\n",
    "    entangled = get_stats(mat)\n",
    "    \n",
    "    #Plotting\n",
    "    if plot_figures:\n",
    "        circuit_plot(index,protid,numbering)\n",
    "        matrix_plot(mat,protid)\n",
    "        stats_plot(entangled,psc,protid)\n",
    "    \n",
    "    #Exporting    \n",
    "    if exporting_cmap3:\n",
    "        export_cmap3(index,protid,numbering)\n",
    "        \n",
    "    if exporting_mat:\n",
    "        export_mat(index,mat,protid)\n",
    "        \n",
    "if exporting_psc:\n",
    "    export_psc(psclist)"
   ]
  },
  {
   "cell_type": "markdown",
   "metadata": {},
   "source": [
    "### <center> Secondary structure tool </center>\n",
    "This function uses the STRIDE tool to calculate the protein's secondary structure. <br> ***NOTE*** STRIDE and DSSP agree in 95,4% of the cases, DSSP tends to assign shorter secondary structures. To use STRIDE files, download them from http://webclu.bio.wzw.tum.de/stride/ and put them in <code>input_files/STRIDE.\n",
    "</code> \n",
    "<br>https://en.wikipedia.org/wiki/STRIDE <br>\n",
    "\n",
    "It can be used to build a Sec. Struc - Sec. struc contact map, or filter out res-res contacts within a secondary structure.\n",
    "\n",
    "STRIDE\n",
    "* H - Alpha-Helix\n",
    "* B - Isolated Beta-Bridge\n",
    "* E - Beta Sheet\n",
    "* b - Isolated Beta-Bridge\n",
    "* G - 3-10 Helix\n",
    "* I - Pi helix\n",
    "* T - Turn\n",
    "* C - Coil\n",
    "\n",
    "The following function takes a STRIDE file as input an parses the secondary structure for further use."
   ]
  },
  {
   "cell_type": "code",
   "execution_count": 91,
   "metadata": {},
   "outputs": [],
   "source": [
    "structure, sequence = stride_secondary_struc('1bni.txt')"
   ]
  },
  {
   "cell_type": "markdown",
   "metadata": {},
   "source": [
    "The following function uses the secondary structure to create a secondary structure-secondary structure based cmap (**cmap4**).<br> Note! It creates indices of the nonzero values in the contact map\n",
    "<br> Keep in mind that this function overwrites certain variables."
   ]
  },
  {
   "cell_type": "code",
   "execution_count": 92,
   "metadata": {},
   "outputs": [],
   "source": [
    "cmap4,segment = secondary_struc_cmap(\n",
    "                                    chain,\n",
    "                                    sequence,\n",
    "                                    structure,\n",
    "                                    cutoff_distance = 4.5,\n",
    "                                    cutoff_numcontacts = 10,\n",
    "                                    exclude_neighbour = 3,\n",
    "                                    ss_elements = ['H','E','b','B','G'])"
   ]
  },
  {
   "cell_type": "markdown",
   "metadata": {},
   "source": [
    "The following function transforms the indices into a cmap and exports it to <code>results/circuit_diagram</code>"
   ]
  },
  {
   "cell_type": "code",
   "execution_count": null,
   "metadata": {},
   "outputs": [],
   "source": [
    "export_cmap4(cmap4,segment,structure,protid)"
   ]
  },
  {
   "cell_type": "markdown",
   "metadata": {},
   "source": [
    "This function takes in a res-res contact map and filters out contacts that are within specified secondary structures,<code>filtered_structures</code>."
   ]
  },
  {
   "cell_type": "code",
   "execution_count": null,
   "metadata": {},
   "outputs": [],
   "source": [
    "cmap5,struc_id = secondary_struc_filter(\n",
    "                                        index,\n",
    "                                        structure,\n",
    "                                        filtered_structures = ['H','E'])"
   ]
  },
  {
   "cell_type": "markdown",
   "metadata": {},
   "source": [
    "### <center> Circuit analysis </center>\n",
    "\n",
    "This function uses the circuit theory developed by Anatoly to calculate the amount of circuits within a certain protein. <br>\n",
    "<code>threshold</code> is the minimum length that will be included."
   ]
  },
  {
   "cell_type": "code",
   "execution_count": null,
   "metadata": {},
   "outputs": [],
   "source": [
    "threshold = 12\n",
    "segnums,meanlength,segends = string_pdb(index,numbering,threshold)\n",
    "\n",
    "export_circuit([protid,segnums,meanlength,segends])"
   ]
  },
  {
   "cell_type": "markdown",
   "metadata": {},
   "source": [
    "### <center> Multi-chain analysis </center>"
   ]
  },
  {
   "cell_type": "markdown",
   "metadata": {},
   "source": [
    "Circuit-topology of a whole model is also possible. This uses the same functions but with slightly different options. Keep in mind that it takes longer to compute due to the size of proteins. Import a PDB/CIF file like you normally would using <code>retrieve_chain()</code> and then use the following setting to obtain a contact map of the whole model."
   ]
  },
  {
   "cell_type": "code",
   "execution_count": null,
   "metadata": {},
   "outputs": [],
   "source": [
    "index,numbering,protid,res_names = get_cmap(\n",
    "                                            chain,\n",
    "                                            level = 'model'\n",
    "                                            cutoff_distance = cutoff_distance,\n",
    "                                            cutoff_numcontacts = cutoff_numcontacts,        \n",
    "                                            exclude_neighbour = exclude_neighbour)"
   ]
  },
  {
   "cell_type": "markdown",
   "metadata": {},
   "source": [
    "The following function is the same, it automatically detects whether it is a model or chain cmap. It does output P,S,C,I,T,L instead of PSC however"
   ]
  },
  {
   "cell_type": "code",
   "execution_count": null,
   "metadata": {},
   "outputs": [],
   "source": [
    "mat,pscitl = get_matrix(index,protid)"
   ]
  },
  {
   "cell_type": "markdown",
   "metadata": {},
   "source": [
    "The plotting functions also work, There is a different function for the topological matrix plot however."
   ]
  },
  {
   "cell_type": "code",
   "execution_count": null,
   "metadata": {},
   "outputs": [],
   "source": [
    "circuit_plot(index,protid,numbering)\n",
    "matrix_plot_model(mat,protid)"
   ]
  }
 ],
 "metadata": {
  "kernelspec": {
   "display_name": "Python 3",
   "language": "python",
   "name": "python3"
  },
  "language_info": {
   "codemirror_mode": {
    "name": "ipython",
    "version": 3
   },
   "file_extension": ".py",
   "mimetype": "text/x-python",
   "name": "python",
   "nbconvert_exporter": "python",
   "pygments_lexer": "ipython3",
   "version": "3.8.5"
  },
  "toc-showmarkdowntxt": false
 },
 "nbformat": 4,
 "nbformat_minor": 4
}
