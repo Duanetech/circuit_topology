{
 "cells": [
  {
   "cell_type": "markdown",
   "metadata": {},
   "source": [
    "# <center>Circuit Topology script V2.0</center>\n",
    "\n",
    "<center>Duane Moes - For suggestions and further questions: moesduane@gmail.com </center><br>\n",
    "<center>Github:   <a href=\"url\" target=\"https://github.com/Duanetech/circuit_topology\">github.com/Duanetech/circuit_topology</a></center>\n",
    "\n",
    "\n",
    "---\n",
    "This is a fully automated script that mainly utilizes biopython to perform circuit topology analysis on a given set of proteins. When possible, try to use the mmCIF file system instead of the PDB file option, this is because PDB is outdated and more prone to missing atoms etc. See the README for installation help and documentation of the functions. If a new update comes out, use the download code option on the github page.\n",
    "\n",
    "#### Packages used\n",
    "<ul><li>BioPython</li>\n",
    "    <li>Pandas</li>\n",
    "<li>SciPy </li>\n",
    "<li>NumPy</li>\n",
    "<li>MatPlotlib</li>\n",
    "<li>DSSP</li>\n",
    "</ul>\n",
    "\n",
    "\n",
    "  \n",
    "Run the code below to install all the needed dependencies (only once!).<br> Warning: This can take a while, if it has finished you can delete the code block.  \n",
    "\n",
    "      \n"
   ]
  },
  {
   "cell_type": "code",
   "execution_count": null,
   "metadata": {
    "tags": []
   },
   "outputs": [],
   "source": [
    "!conda env update --file requirements.yml"
   ]
  },
  {
   "cell_type": "markdown",
   "metadata": {},
   "source": [
    "#### Importing\n",
    "These are import statements, you have to run this codeblock everytime you restart and/or quit Jupyter. "
   ]
  },
  {
   "cell_type": "code",
   "execution_count": 1,
   "metadata": {
    "tags": []
   },
   "outputs": [
    {
     "name": "stdout",
     "output_type": "stream",
     "text": [
      "Using matplotlib backend: MacOSX\n"
     ]
    }
   ],
   "source": [
    "from functions.plots.circuit_plot import circuit_plot\n",
    "from functions.plots.matrix_plot import matrix_plot\n",
    "from functions.plots.stats_plot import stats_plot\n",
    "from functions.plots.matrix_plot_model import matrix_plot_model\n",
    "\n",
    "from functions.calculating.get_cmap import get_cmap\n",
    "from functions.calculating.get_matrix import get_matrix\n",
    "from functions.calculating.get_stats import get_stats\n",
    "from functions.calculating.energy_cmap import energy_cmap\n",
    "from functions.calculating.string_pdb import string_pdb\n",
    "from functions.calculating.secondary_struc_cmap import secondary_struc_cmap\n",
    "from functions.calculating.secondary_struc_filter import secondary_struc_filter\n",
    "from functions.calculating.glob_score import glob_score\n",
    "from functions.calculating.length_filter import length_filter\n",
    "\n",
    "from functions.importing.retrieve_chain import retrieve_chain\n",
    "from functions.importing.retrieve_cif import retrieve_cif\n",
    "from functions.importing.retrieve_cif_list import retrieve_cif_list\n",
    "from functions.importing.retrieve_secondary_struc import retrieve_secondary_struc\n",
    "from functions.importing.stride_secondary_struc import stride_secondary_struc\n",
    "\n",
    "from functions.exporting.export_psc import export_psc\n",
    "from functions.exporting.export_cmap3 import export_cmap3\n",
    "from functions.exporting.export_mat import export_mat\n",
    "from functions.exporting.export_cmap4 import export_cmap4\n",
    "\n",
    "from ipywidgets import widgets\n",
    "import numpy as np \n",
    "import pandas as pd\n",
    "import os\n",
    "import matplotlib\n",
    "%matplotlib "
   ]
  },
  {
   "cell_type": "markdown",
   "metadata": {},
   "source": [
    "## <center> User guide </center>\n",
    "<ul>\n",
    "    <li>Either copy your <code>.PDB</code> or <code>.CIF </code> files to their respective maps in <code>/input_files/</code>, or enter the 4 letter protein codes in <code>input_files/protlist.txt</code>.\n",
    "</li>\n",
    "</ul>\n",
    "<i>NOTE that when using a large number of proteins (>50), it is more efficient to use the batch download function from the <a href=\"url\" target=\"https://www.rcsb.org/downloads\">RCSB Db</a> </i>\n",
    "\n",
    "\n",
    "\n",
    "\n",
    " \n",
    "####  ***Variable input*** <br>\n",
    "<ul>\n",
    "<li><code>fileformat</code> (0/1) Preferred filetype, CIF is recommendend because of a possibility of missing atoms occuring in PDB files. <br></li>\n",
    "    <font color='red'>NOTE!! <code>fileformat</code> must be CIF to function properly.</font>\n",
    "<li><code>fetch_db</code> (0/1) Downloads the CIF files stated in <code>input_files/protlist.txt</code>.</li> <br> \n",
    "\n",
    "<li><code>cutoff_distance</code>, maximal distance (Ångström) between two atoms that will count as an atom-atom contact.<br> </li>\n",
    "<li><code>cutoff_numcontacts</code>, minimum number of contacts between two residues to count as a res-res contact. <br></li>\n",
    "<li><code>length_filtering</code>, if length_filtering > 0, it is activated, input is the max contact distance. <br> </li>\n",
    "<li><code>exclude_neighbour</code>, number of neighbours that are excluded from possbile res-res contacts. <br></li>\n",
    "\n",
    "<br>\n",
    "<li><code>export_psc</code>(0/1), exporting the resulting PSC stats to a txt file located in <code>results/statistics/psc</code>       (Overwrites a previous created file)</li> \n",
    "<li><code>export_cmap3</code>(0/1), exporting cmap3 to a csv file located in <code>results/circuit_diagram</code></li> \n",
    "<li><code>export_mat</code>(0/1), exporting the topology relations matrix to a csv file located in <code>results/matrix</code></li>\n",
    "</ul>"
   ]
  },
  {
   "cell_type": "code",
   "execution_count": 1,
   "metadata": {},
   "outputs": [],
   "source": [
    "# Format\n",
    "fileformat =            'pdb'\n",
    "fetch_db =              0\n",
    "\n",
    "# CT variables\n",
    "cutoff_distance =       4.5\n",
    "cutoff_numcontacts =    5\n",
    "length_filtering =      0\n",
    "filtering_distance =    0\n",
    "length_mode =           '<'\n",
    "energy_filtering =      0\n",
    "energy_filtering_mode = '+'\n",
    "exclude_neighbour =     3\n",
    "\n",
    "# Exporting\n",
    "plot_figures =          0\n",
    "exporting_psc =         0\n",
    "exporting_cmap3 =       0\n",
    "exporting_mat   =       0\n",
    "\n",
    "if energy_filtering:\n",
    "    potential_sign = input(\"positive or negative filtering? (+/-)\")  \n",
    "    \n",
    "if fileformat == 'cif' and fetch_db:  \n",
    "    retrieve_cif()  "
   ]
  },
  {
   "cell_type": "code",
   "execution_count": 16,
   "metadata": {},
   "outputs": [
    {
     "name": "stdout",
     "output_type": "stream",
     "text": [
      "Downloading PDB structure '1a6n'...\n"
     ]
    }
   ],
   "source": [
    "retrieve_cif('1a6n')"
   ]
  },
  {
   "cell_type": "markdown",
   "metadata": {},
   "source": [
    "#### <center>MAIN</center>"
   ]
  },
  {
   "cell_type": "code",
   "execution_count": 64,
   "metadata": {
    "collapsed": true,
    "jupyter": {
     "outputs_hidden": true
    },
    "tags": []
   },
   "outputs": [
    {
     "name": "stdout",
     "output_type": "stream",
     "text": [
      "1a5v.pdb\n",
      "1a5v.pdb - 1/10\n",
      "3mtq.pdb\n",
      "3mtq.pdb - 2/10\n",
      ".DS_Store\n",
      "1bcs.pdb\n",
      "1bcs.pdb - 4/10\n",
      "4l9h.pdb\n",
      "4l9h.pdb - 5/10\n",
      "4l6e.pdb\n",
      "4l6e.pdb - 6/10\n",
      "3lwf.pdb\n",
      "3lwf.pdb - 7/10\n",
      "3mxn.pdb\n",
      "3mxn.pdb - 8/10\n",
      "1a8m.pdb\n",
      "1a8m.pdb - 9/10\n",
      "1aa7.pdb\n",
      "1aa7.pdb - 10/10\n"
     ]
    }
   ],
   "source": [
    "number_of_files = len(os.listdir('input_files/' +fileformat))\n",
    "\n",
    "psclist = []\n",
    "\n",
    "for num,files in enumerate(os.listdir('input_files/' +fileformat)):\n",
    "    print(files)\n",
    "    if files.endswith(('cif','pdb')):\n",
    "  \n",
    "        try:\n",
    "            \n",
    "            chain,protid = retrieve_chain(files)\n",
    "            print(f'{files} - {num+1}/{number_of_files}')\n",
    "            \n",
    "        except Exception as e:\n",
    "            \n",
    "            print(f'{files} - {e}')\n",
    "            continue\n",
    "    \n",
    "    \n",
    "    \n",
    "    #Step 1 - Draw a segment-segment based contact map \n",
    "    index,numbering,protid,res_names = get_cmap(chain)\n",
    "    \n",
    "    #Step 2 - Lenght filtering\n",
    "    if lenght_filtering:\n",
    "        index = length_filter(index,filtering_distance,length_mode)\n",
    "\n",
    "    #Step 1.5 - Energy filtering\n",
    "    if energy_filtering:\n",
    "        ef_index = energy_cmap(index,numbering,res_names,protid,energy_filtering_mode)    \n",
    "    \n",
    "    #Step 2 - Draw a circuit topology relations matrix\n",
    "    mat, psc = get_matrix(index)\n",
    "    \n",
    "    #Step 3 - Circuit topology statistics\n",
    "    entangled = get_stats(mat)\n",
    "    psclist.append([protid,psc[0],psc[1],psc[2]])\n",
    "    \n",
    "    #plotting\n",
    "    if plot_figures:\n",
    "        circuit_plot(index,protid,numbering)\n",
    "        matrix_plot(mat,protid)\n",
    "        stats_plot(entangled,psc,protid)\n",
    "    \n",
    "    #exporting    \n",
    "    if exporting_cmap3:\n",
    "        export_cmap3(index,protid,numbering)\n",
    "        \n",
    "    if exporting_psc:\n",
    "        export_psc(psclist)\n",
    "        \n",
    "    if exporting_mat:\n",
    "        export_mat(index,mat,protid)\n",
    "    "
   ]
  },
  {
   "cell_type": "markdown",
   "metadata": {},
   "source": [
    "## Secondary structure tool\n",
    "This function uses the STRIDE tool to calculate the protein's secondary structure. <br> ***NOTE*** STRIDE and DSSP agree in 95,4% of the cases, DSSP tends to assign shorter secondary structures. To use STRIDE files, download them from http://webclu.bio.wzw.tum.de/stride/ and put them in <code>input_files/STRIDE.\n",
    "</code> \n",
    "<br>https://en.wikipedia.org/wiki/STRIDE <br>\n",
    "\n",
    "It can be used to build a Sec. Struc - Sec. struc contact map, or filter out res-res contacts within a secondary structure.\n",
    "\n",
    "STRIDE\n",
    "* H - Alpha-Helix\n",
    "* B - Isolated Beta-Bridge\n",
    "* b - Isolated Beta-Bridge\n",
    "* G - 3-10 Helix\n",
    "* I - Pi helix\n",
    "* T - Turn\n",
    "* C - Coil"
   ]
  },
  {
   "cell_type": "code",
   "execution_count": 4,
   "metadata": {},
   "outputs": [],
   "source": [
    "structure, sequence = stride_secondary_struc('1a34stride.txt')"
   ]
  },
  {
   "cell_type": "markdown",
   "metadata": {},
   "source": [
    "The following function uses the secondary structure to create a secondary structure-secondary structure based cmap (cmap4).<br> Keep in mind that this function overwrites certain variables."
   ]
  },
  {
   "cell_type": "code",
   "execution_count": 6,
   "metadata": {},
   "outputs": [],
   "source": [
    "cmap4,segment = secondary_struc_cmap(\n",
    "                                    chain,\n",
    "                                    sequence,\n",
    "                                    structure,\n",
    "                                    cutoff_distance = 4.5,\n",
    "                                    cutoff_numcontacts = 10,\n",
    "                                    exclude_neighbour = 3,\n",
    "                                    ss_elements = ['H','E','B','G'])"
   ]
  },
  {
   "cell_type": "markdown",
   "metadata": {},
   "source": [
    "This function takes in a res-res contact map and filters out contacts that are within specified secondary structures,<code>filtered_structures</code>."
   ]
  },
  {
   "cell_type": "code",
   "execution_count": null,
   "metadata": {},
   "outputs": [],
   "source": [
    "cmap5,struc_id = secondary_struc_filter(\n",
    "                                        index,\n",
    "                                        structure,\n",
    "                                        filtered_structures = ['H','E'])"
   ]
  },
  {
   "cell_type": "markdown",
   "metadata": {},
   "source": [
    "### <center> Multi-chain analysis </center>"
   ]
  },
  {
   "cell_type": "code",
   "execution_count": 4,
   "metadata": {},
   "outputs": [],
   "source": [
    "chain,protid = retrieve_chain('1a34.cif')"
   ]
  },
  {
   "cell_type": "code",
   "execution_count": 12,
   "metadata": {},
   "outputs": [],
   "source": [
    "index,numbering,protid,res_names = get_cmap(chain,level='chain')"
   ]
  },
  {
   "cell_type": "code",
   "execution_count": 13,
   "metadata": {},
   "outputs": [],
   "source": [
    "mat, psc = get_matrix(index,protid)"
   ]
  },
  {
   "cell_type": "code",
   "execution_count": 13,
   "metadata": {},
   "outputs": [],
   "source": [
    "psclist.append(psc)"
   ]
  },
  {
   "cell_type": "code",
   "execution_count": 15,
   "metadata": {},
   "outputs": [
    {
     "data": {
      "text/plain": [
       "['1a34_A', '28976', '11551', '10194']"
      ]
     },
     "execution_count": 15,
     "metadata": {},
     "output_type": "execute_result"
    }
   ],
   "source": [
    "psc.tolist()"
   ]
  },
  {
   "cell_type": "code",
   "execution_count": 11,
   "metadata": {},
   "outputs": [],
   "source": [
    "psclist=[]"
   ]
  },
  {
   "cell_type": "code",
   "execution_count": 15,
   "metadata": {},
   "outputs": [
    {
     "data": {
      "text/plain": [
       "[28976, 11551, 10194]"
      ]
     },
     "execution_count": 15,
     "metadata": {},
     "output_type": "execute_result"
    }
   ],
   "source": [
    "psc[1:]"
   ]
  },
  {
   "cell_type": "code",
   "execution_count": 16,
   "metadata": {},
   "outputs": [
    {
     "data": {
      "text/plain": [
       "4"
      ]
     },
     "execution_count": 16,
     "metadata": {},
     "output_type": "execute_result"
    }
   ],
   "source": [
    "len(psclist[0])"
   ]
  },
  {
   "cell_type": "code",
   "execution_count": 3,
   "metadata": {},
   "outputs": [
    {
     "ename": "NameError",
     "evalue": "name 'psclist' is not defined",
     "output_type": "error",
     "traceback": [
      "\u001b[0;31m---------------------------------------------------------------------------\u001b[0m",
      "\u001b[0;31mNameError\u001b[0m                                 Traceback (most recent call last)",
      "\u001b[0;32m<ipython-input-3-5be0b9ea5da1>\u001b[0m in \u001b[0;36m<module>\u001b[0;34m\u001b[0m\n\u001b[0;32m----> 1\u001b[0;31m \u001b[0mpsclist\u001b[0m\u001b[0;34m\u001b[0m\u001b[0;34m\u001b[0m\u001b[0m\n\u001b[0m",
      "\u001b[0;31mNameError\u001b[0m: name 'psclist' is not defined"
     ]
    }
   ],
   "source": [
    "psclist"
   ]
  },
  {
   "cell_type": "code",
   "execution_count": 9,
   "metadata": {},
   "outputs": [
    {
     "data": {
      "text/plain": [
       "159"
      ]
     },
     "execution_count": 9,
     "metadata": {},
     "output_type": "execute_result"
    }
   ],
   "source": [
    "numbering.max()"
   ]
  },
  {
   "cell_type": "code",
   "execution_count": 10,
   "metadata": {},
   "outputs": [
    {
     "data": {
      "text/plain": [
       "array([ 13,  14,  15,  16,  17,  18,  19,  20,  21,  22,  23,  24,  25,\n",
       "        26,  27,  28,  29,  30,  31,  32,  33,  34,  35,  36,  37,  38,\n",
       "        39,  40,  41,  42,  43,  44,  45,  46,  47,  48,  49,  50,  51,\n",
       "        52,  53,  54,  55,  56,  57,  58,  59,  60,  61,  62,  63,  64,\n",
       "        65,  66,  67,  68,  69,  70,  71,  72,  73,  74,  75,  76,  77,\n",
       "        78,  79,  80,  81,  82,  83,  84,  85,  86,  87,  88,  89,  90,\n",
       "        91,  92,  93,  94,  95,  96,  97,  98,  99, 100, 101, 102, 103,\n",
       "       104, 105, 106, 107, 108, 109, 110, 111, 112, 113, 114, 115, 116,\n",
       "       117, 118, 119, 120, 121, 122, 123, 124, 125, 126, 127, 128, 129,\n",
       "       130, 131, 132, 133, 134, 135, 136, 137, 138, 139, 140, 141, 142,\n",
       "       143, 144, 145, 146, 147, 148, 149, 150, 151, 152, 153, 154, 155,\n",
       "       156, 157, 158, 159])"
      ]
     },
     "execution_count": 10,
     "metadata": {},
     "output_type": "execute_result"
    }
   ],
   "source": [
    "numbering"
   ]
  },
  {
   "cell_type": "code",
   "execution_count": 11,
   "metadata": {},
   "outputs": [
    {
     "ename": "NameError",
     "evalue": "name 'psc' is not defined",
     "output_type": "error",
     "traceback": [
      "\u001b[0;31m---------------------------------------------------------------------------\u001b[0m",
      "\u001b[0;31mNameError\u001b[0m                                 Traceback (most recent call last)",
      "\u001b[0;32m<ipython-input-11-7111ddc9106b>\u001b[0m in \u001b[0;36m<module>\u001b[0;34m\u001b[0m\n\u001b[0;32m----> 1\u001b[0;31m \u001b[0mpsc\u001b[0m\u001b[0;34m\u001b[0m\u001b[0;34m\u001b[0m\u001b[0m\n\u001b[0m",
      "\u001b[0;31mNameError\u001b[0m: name 'psc' is not defined"
     ]
    }
   ],
   "source": [
    "psc"
   ]
  },
  {
   "cell_type": "code",
   "execution_count": null,
   "metadata": {},
   "outputs": [],
   "source": []
  }
 ],
 "metadata": {
  "kernelspec": {
   "display_name": "Python 3",
   "language": "python",
   "name": "python3"
  },
  "language_info": {
   "codemirror_mode": {
    "name": "ipython",
    "version": 3
   },
   "file_extension": ".py",
   "mimetype": "text/x-python",
   "name": "python",
   "nbconvert_exporter": "python",
   "pygments_lexer": "ipython3",
   "version": "3.8.5"
  },
  "toc-showmarkdowntxt": false
 },
 "nbformat": 4,
 "nbformat_minor": 4
}
