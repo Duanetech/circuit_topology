{
 "cells": [
  {
   "cell_type": "markdown",
   "metadata": {},
   "source": [
    "# <center>Circuit Topology script V1.0</center>\n",
    "\n",
    "<center>Duane Moes - For suggestions and further questions: moesduane@gmail.com </center>\n",
    "\n",
    "---\n",
    "This is a fully automated script that mainly utilizes biopython to perform circuit topology analysis on a given set of proteins. When possible, try to use the mmCIF file system instead of the PDB file option, this is because PDB is outdated and more prone to missing atoms etc.\n",
    "\n",
    "#### Packages used\n",
    "<ul><li>BioPython</li>\n",
    "<li>SciPy </li>\n",
    "<li>NumPy</li>\n",
    "<li>MatPlotlib</li>\n",
    "<li>DSSP</li>\n",
    "<li>Ipympl</li>\n",
    "<li>ipywidgets</li>\n",
    "</ul>\n",
    "\n",
    "\n",
    "  \n",
    "Run the code below to install all the needed dependencies. (only once!) <br>\n",
    "\n",
    "      \n"
   ]
  },
  {
   "cell_type": "code",
   "execution_count": null,
   "metadata": {},
   "outputs": [],
   "source": [
    "%conda install --file requirements.txt"
   ]
  },
  {
   "cell_type": "markdown",
   "metadata": {},
   "source": [
    "### User guide\n",
    "<ul>\n",
    "    <li>Either copy your <code>.PDB</code> or <code>.CIF </code> files to their respective maps in <code>/input_files/</code>, or enter the 4 letter protein codes in <code>input_files/protlist.txt</code> and run the first code block.\n",
    "</li>\n",
    "</ul>\n",
    "<i>NOTE that when using a large number of proteins (>50), it is more efficient to use the batch download function from the </i>\n",
    "\n",
    "__[RCSB Db](https://www.rcsb.org/downloads)__"
   ]
  },
  {
   "cell_type": "code",
   "execution_count": 1,
   "metadata": {},
   "outputs": [],
   "source": [
    "from functions.plots.circuit_plot import circuit_plot\n",
    "from functions.plots.matrix_plot import matrix_plot\n",
    "from functions.plots.stats_plot import stats_plot\n",
    "\n",
    "from functions.calculating.get_cmap import get_cmap\n",
    "from functions.calculating.get_matrix import get_matrix\n",
    "from functions.calculating.get_stats import get_stats\n",
    "from functions.calculating.energy_cmap import energy_cmap\n",
    "from functions.calculating.string_pdb import string_pdb\n",
    "from functions.calculating.secondary_struc_cmap import secondary_struc_cmap\n",
    "from functions.calculating.secondary_struc_filter import secondary_struc_filter\n",
    "\n",
    "from functions.importing.retrieve_chain import retrieve_chain\n",
    "from functions.importing.retrieve_cif import retrieve_cif\n",
    "from functions.importing.retrieve_secondary_struc import retrieve_secondary_struc\n",
    "\n",
    "from functions.exporting.export_psc import export_psc\n",
    "\n",
    "from ipywidgets import widgets\n",
    "import numpy as np \n",
    "import os\n",
    "import matplotlib\n",
    "\n",
    "%matplotlib qt"
   ]
  },
  {
   "cell_type": "markdown",
   "metadata": {},
   "source": [
    "<ul><li>Enter the file type you're using, if you want to downoad the files you've entered in <code>input_files/protlist.txt</code>, indicate it here. </li></ul>"
   ]
  },
  {
   "cell_type": "markdown",
   "metadata": {},
   "source": [
    "***Variable input***<br>\n",
    "<code>fileformat</code>\n",
    "<code>fetch_db</code>\n",
    "\n",
    "<code>cutoff_distance</code>, maximal distance (Ångström) between two atoms that will count as an atom-atom contact.<br> \n",
    "<code>cutoff_numcontacts</code>, minimum number of contacts between two residues to count as a res-res contact. <br>\n",
    "<code>length_filtering</code>, if length_filtering > 0, it is activated, input is the max contact distance. <br> \n",
    "<code>exclude_neighbour</code>, number of neighbours that are excluded from possbile res-res contacts. <br>\n",
    "\n",
    "When <code>plot_figures = 1</code>, figures will also be saved in <code>results/</code>.<br>\n",
    "<code>export_psc</code>, exporting the resulting PSC stats to a txt file. <code>results/statistics/psc</code>       (Overwrites a previous created file) \n"
   ]
  },
  {
   "cell_type": "code",
   "execution_count": 3,
   "metadata": {},
   "outputs": [],
   "source": [
    "#Format\n",
    "fileformat =            'cif'\n",
    "fetch_db =              0\n",
    "\n",
    "#CT variables\n",
    "cutoff_distance =       3.6\n",
    "cutoff_numcontacts =    3\n",
    "length_filtering =      0\n",
    "energy_filtering =      0\n",
    "exclude_neighbour =     4\n",
    "\n",
    "plot_figures =          0\n",
    "exporting_psc =         1\n",
    "\n",
    "if energy_filtering:\n",
    "    potential_sign = input(\"positive or negative filtering? (1/0)\")  \n",
    "    \n",
    "if fileformat == 'cif' and fetch_db:  \n",
    "    retrieve_cif()"
   ]
  },
  {
   "cell_type": "markdown",
   "metadata": {},
   "source": [
    "***cmap***    - Atom-Atom contact map (<i>cutoff_distance</i>)<br>\n",
    "***cmap2***  - Res-Res contact map<br>\n",
    "***cmap3***  - Boolean Res-Res contact map (<i>cutoff_numcontacts</i>)<br>\n",
    "***cmap4***  - Boolean Res-Res contact map with indicated secondary structures filtered out <br>\n",
    "***cmap5***  - Boolean Secondary Structure - Secondary Structure contact map<br>\n"
   ]
  },
  {
   "cell_type": "code",
   "execution_count": 7,
   "metadata": {},
   "outputs": [
    {
     "name": "stdout",
     "output_type": "stream",
     "text": [
      "1a5v.cif - 1/1\n"
     ]
    }
   ],
   "source": [
    "number_of_files = len(os.listdir('input_files/' +fileformat))\n",
    "\n",
    "psclist = []\n",
    "\n",
    "for num,files in enumerate(os.listdir('input_files/' +fileformat)):\n",
    "    \n",
    "    try:\n",
    "        chain,file_path = retrieve_chain(files)\n",
    "        print(f'{files} - {num+1}/{number_of_files-1}')\n",
    "    except:\n",
    "        continue\n",
    "\n",
    "    #Step 1 - Draw a segment-segment based contact map \n",
    "    cmap3, cmap2, protid ,numbering, res_names, = get_cmap(chain, \n",
    "                                                            cutoff_distance, \n",
    "                                                            cutoff_numcontacts, \n",
    "                                                            length_filtering, \n",
    "                                                            exclude_neighbour)\n",
    "\n",
    "    #Step 1.5 - Energy filtering\n",
    "    if energy_filtering:\n",
    "        cmap3 = energy_cmap(cmap3,numbering,res_names,potential_sign)\n",
    "        protid = protid + '_(' + str(energy_filtering) + ')ef'\n",
    "    \n",
    "    #Step 2 - Draw a circuit topology relations matrix\n",
    "    mat, c = get_matrix(cmap3,protid)\n",
    "    \n",
    "    #Step 3 - Circuit topology statistics\n",
    "    psc, entangled = get_stats(mat,protid)\n",
    "    psclist.append([protid,psc])\n",
    "    \n",
    "    #plotting\n",
    "    if plot_figures:\n",
    "        sitelist = circuit_plot(cmap2,protid,numbering,cutoff_numcontacts)\n",
    "        matrix_plot(mat,protid)\n",
    "        stats_plot(entangled,psc,protid)\n",
    "        \n",
    "    #exporting    \n",
    "    if exporting_psc:\n",
    "        export_psc(psclist)"
   ]
  },
  {
   "cell_type": "markdown",
   "metadata": {},
   "source": [
    "### Secondary structure tool\n",
    "This function uses the DSSP tool to calculate the protein's secondary structure. <br> ***NOTE*** STRIDE and DSSP agree in 95,4% of the cases, DSSP tends to assign shorter secondary structures.  <br>https://en.wikipedia.org/wiki/STRIDE <br> \n",
    "\n",
    "It can be used to build a Sec. Struc - Sec. struc contact map, or filter out res-res contacts within a secondary structure.\n",
    "\n",
    "* H - Alpha-Helix\n",
    "* B - Isolated Beta-Bridge\n",
    "* E - Strand\n",
    "* G - 3-10 Helix\n",
    "* I - Pi helix\n",
    "* T - Turn\n",
    "* S - Bend"
   ]
  },
  {
   "cell_type": "code",
   "execution_count": 9,
   "metadata": {},
   "outputs": [],
   "source": [
    "sequence, structure = retrieve_secondary_struc(chain,file_path)"
   ]
  },
  {
   "cell_type": "markdown",
   "metadata": {},
   "source": [
    "The following function uses the secondary structure to create a secondary structure-secondary structure based cmap (cmap5).<br> Keep in mind that this function overwrites certain variables."
   ]
  },
  {
   "cell_type": "code",
   "execution_count": null,
   "metadata": {},
   "outputs": [],
   "source": [
    "cmap5,struc,segment,numbering = secondary_struc.cmap(chain,\n",
    "                                                      seq,\n",
    "                                                      struc,\n",
    "                                                      cutoff_distance = 6,\n",
    "                                                      cutoff_numcontacts = 10,\n",
    "                                                      exclude_neighbour=0,\n",
    "                                                      ss_elements = ['H','E','B','G'])"
   ]
  },
  {
   "cell_type": "markdown",
   "metadata": {},
   "source": [
    "This function takes in a res-res contact map and filters out contacts that are within specified secondary structures,<code>filtered_structures</code>."
   ]
  },
  {
   "cell_type": "code",
   "execution_count": null,
   "metadata": {},
   "outputs": [],
   "source": [
    "cmap4 = secondary_struc_filter(cmap3,\n",
    "                              struc,\n",
    "                              filtered_structures = ['H','G'],\n",
    "                              ss_elements = ['H','E','B','G'])"
   ]
  }
 ],
 "metadata": {
  "kernelspec": {
   "display_name": "Python 3",
   "language": "python",
   "name": "python3"
  },
  "language_info": {
   "codemirror_mode": {
    "name": "ipython",
    "version": 3
   },
   "file_extension": ".py",
   "mimetype": "text/x-python",
   "name": "python",
   "nbconvert_exporter": "python",
   "pygments_lexer": "ipython3",
   "version": "3.8.5"
  }
 },
 "nbformat": 4,
 "nbformat_minor": 4
}
