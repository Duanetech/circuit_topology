{
 "cells": [
  {
   "cell_type": "markdown",
   "metadata": {},
   "source": [
    "# <center>Circuit Topology script V1.0</center>\n",
    "\n",
    "<center>Duane Moes - For suggestions and further questions: moesduane@gmail.com </center>\n",
    "\n",
    "---\n",
    "This is a fully automated script that mainly utilizes biopython to perform circuit topology analysis on a given set of proteins. When possible, try to use the mmCIF file system instead of the PDB file option, this is because PDB is outdated and more prone to missing atoms etc.\n",
    "\n",
    "#### Packages used\n",
    "<ul><li>BioPython</li>\n",
    "<li>SciPy </li>\n",
    "<li>NumPy</li>\n",
    "<li>MatPlotlib</li>\n",
    "<li>DSSP</li>\n",
    "</ul>\n",
    "\n",
    "### User guide\n",
    "<ul>\n",
    "    <li>Either copy your <code>.PDB</code> or <code>.CIF </code> files to their respective maps in <code>/input_files/</code>, or enter the 4 letter protein codes in <code>input_files/protlist.txt</code> and run the first code block.\n",
    "</li>\n",
    "</ul>\n",
    "<i>NOTE that when using a large number of proteins (>50), it is more efficient to use the batch download function from the </i>\n",
    "\n",
    "__[RCSB Db](https://www.rcsb.org/downloads)__\n",
    "  \n",
    "        \n",
    "      \n"
   ]
  },
  {
   "cell_type": "code",
   "execution_count": 11,
   "metadata": {},
   "outputs": [],
   "source": [
    "from functions.plots import circuit_plot,matrix_plot,stats_plot\n",
    "from functions.calculating import get_cmap,get_matrix,get_stats, energy_cmap, string_pdb\n",
    "from functions.importing import retrieve_chain,retrieve_cif\n",
    "import numpy as np \n",
    "import os\n",
    "import matplotlib\n",
    "%matplotlib widget"
   ]
  },
  {
   "cell_type": "markdown",
   "metadata": {},
   "source": [
    "<ul><li>Enter the file type you're using, if you want to downoad the files you entered in <code>input_files/protlist.txt</code>, indicate it here. </li></ul>"
   ]
  },
  {
   "cell_type": "code",
   "execution_count": 2,
   "metadata": {},
   "outputs": [
    {
     "name": "stdout",
     "output_type": "stream",
     "text": [
      "mmcif or pdb? (cif/pdb) \n",
      "cif\n",
      "Do you want to fetch CIF's from Database? protlist.txt (y/n) \n",
      "n\n",
      "apply energy filtering? (y/n)\n",
      "n\n"
     ]
    }
   ],
   "source": [
    "fileformat = input('cif or pdb? (cif/pdb) \\n')\n",
    "if fileformat == 'cif':\n",
    "    dlinput = input('Do you want to fetch CIF\\'s from Database? protlist.txt (y/n) \\n')\n",
    "    if dlinput:  \n",
    "        efiltering = input('apply energy filtering? (y/n)\\n')\n",
    "        if efiltering == 'y':\n",
    "            potsign = input('positive or negative filtering? (+/-)')\n",
    "            if potsign == '+':\n",
    "                potential_sign = 1\n",
    "            else:\n",
    "                potential_sign = 0\n",
    "else:\n",
    "    efiltering  = input('apply energy filtering? (y/n)\\n')\n",
    "    dlinput = 'n'\n",
    "\n",
    "#Enter a list with protein names that need to be downloaded (pdblist.txt)\n",
    "if dlinput == 'y':  \n",
    "    retrieve_cif.retrieve_cif()"
   ]
  },
  {
   "cell_type": "markdown",
   "metadata": {},
   "source": [
    "***Variable input***<br>\n",
    "When <code>plot_figures = 1</code>, figures will also be saved in <code>results/</code>.\n"
   ]
  },
  {
   "cell_type": "code",
   "execution_count": 3,
   "metadata": {},
   "outputs": [],
   "source": [
    "cutoff_distance =       3.6\n",
    "cutoff_numcontacts =    3\n",
    "length_filtering =      0\n",
    "exclude_neighbour =     4\n",
    "plot_figures =          0"
   ]
  },
  {
   "cell_type": "markdown",
   "metadata": {},
   "source": [
    "***cmap***    - Atom-Atom contact map (<i>cutoff_distance</i>)<br>\n",
    "***cmap2***  - Res-Res contact map<br>\n",
    "***cmap3***  - Boolean Res-Res contact map (<i>cutoff_numcontacts</i>)<br>\n",
    "***cmap4***  - Boolean Res-Res contact map with indicated secondary structures filtered out <br>\n",
    "***cmap5***  - Boolean Secondary Structure - Secondary Structure contact map<br>\n"
   ]
  },
  {
   "cell_type": "code",
   "execution_count": 4,
   "metadata": {},
   "outputs": [
    {
     "name": "stdout",
     "output_type": "stream",
     "text": [
      "0 - 2\n"
     ]
    },
    {
     "data": {
      "application/vnd.jupyter.widget-view+json": {
       "model_id": "55769c20413d48bca828f7faa7cb4778",
       "version_major": 2,
       "version_minor": 0
      },
      "text/plain": [
       "Canvas(toolbar=Toolbar(toolitems=[('Home', 'Reset original view', 'home', 'home'), ('Back', 'Back to previous …"
      ]
     },
     "metadata": {},
     "output_type": "display_data"
    },
    {
     "data": {
      "application/vnd.jupyter.widget-view+json": {
       "model_id": "b7da17748bc44930949c6f57ed0093be",
       "version_major": 2,
       "version_minor": 0
      },
      "text/plain": [
       "Canvas(toolbar=Toolbar(toolitems=[('Home', 'Reset original view', 'home', 'home'), ('Back', 'Back to previous …"
      ]
     },
     "metadata": {},
     "output_type": "display_data"
    },
    {
     "data": {
      "application/vnd.jupyter.widget-view+json": {
       "model_id": "1fc7bbe47c694dc488e276070b8a0aa1",
       "version_major": 2,
       "version_minor": 0
      },
      "text/plain": [
       "Canvas(toolbar=Toolbar(toolitems=[('Home', 'Reset original view', 'home', 'home'), ('Back', 'Back to previous …"
      ]
     },
     "metadata": {},
     "output_type": "display_data"
    },
    {
     "name": "stdout",
     "output_type": "stream",
     "text": [
      "1 - 2\n",
      "Invalid file: .DS_Store\n"
     ]
    }
   ],
   "source": [
    "number_of_files = len(os.listdir('input_files/' +fileformat))\n",
    "\n",
    "for num,files in enumerate(os.listdir('input_files/' +fileformat)):\n",
    "    \n",
    "    print(f'{num} - {number_of_files}')\n",
    "\n",
    "    try:\n",
    "        chain,file_path = retrieve_chain.retrieve_chain(files)\n",
    "    except:\n",
    "        print(\"Invalid file: \"+files)\n",
    "        continue\n",
    "\n",
    "    #Step 1 - Draw a segment-segment based contact map (if length_filtering > 0, it is activated, input is the max distance)\n",
    "    cmap3, cmap2, protid ,numbering, res_names, = get_cmap.get_cmap(chain, cutoff_distance, cutoff_numcontacts, length_filtering, exclude_neighbour)\n",
    "\n",
    "    #Step 1.5 - Energy filtering\n",
    "    if efiltering == 'y':\n",
    "        cmap3 = energy_cmap.energy_cmap(cmap3,numbering,res_names,potential_sign)\n",
    "        protid = protid + '_(' + potsign + ')ef'\n",
    "    \n",
    "    #Step 2 - Draw a circuit topology relations matrixo\n",
    "    mat, c = get_matrix.get_matrix(cmap3,protid)\n",
    "    \n",
    "    \n",
    "\n",
    "    #Step 3 - Circuit topology statistics\n",
    "    psc, entangled = get_stats.get_stats(mat,protid)\n",
    "    #psclist.append([protid,psc])\n",
    "    \n",
    "    \n",
    "    #Plots\n",
    "    sitelist = circuit_plot.circuit_plot(cmap2,protid,numbering,cutoff_numcontacts)\n",
    "    matrix_plot.matrix_plot(mat,protid)\n",
    "    stats_plot.stats_plot(entangled,psc,protid)"
   ]
  },
  {
   "cell_type": "code",
   "execution_count": 6,
   "metadata": {},
   "outputs": [
    {
     "name": "stdout",
     "output_type": "stream",
     "text": [
      "Using matplotlib backend: MacOSX\n"
     ]
    }
   ],
   "source": [
    "%matplotlib"
   ]
  },
  {
   "cell_type": "code",
   "execution_count": 9,
   "metadata": {},
   "outputs": [
    {
     "data": {
      "application/vnd.jupyter.widget-view+json": {
       "model_id": "db92c5c084394dbfa5c03aad70444309",
       "version_major": 2,
       "version_minor": 0
      },
      "text/plain": [
       "Canvas(toolbar=Toolbar(toolitems=[('Home', 'Reset original view', 'home', 'home'), ('Back', 'Back to previous …"
      ]
     },
     "metadata": {},
     "output_type": "display_data"
    },
    {
     "data": {
      "text/plain": [
       "array([[  6,  29],\n",
       "       [  7,  30],\n",
       "       [  8,  55],\n",
       "       [  8,  62],\n",
       "       [  9,  28],\n",
       "       [ 10,  52],\n",
       "       [ 11,  26],\n",
       "       [ 13,  24],\n",
       "       [ 15,  22],\n",
       "       [ 18, 132],\n",
       "       [ 21,  39],\n",
       "       [ 23,  40],\n",
       "       [ 23,  43],\n",
       "       [ 25,  51],\n",
       "       [ 27,  51],\n",
       "       [ 38,  51],\n",
       "       [ 45,  75],\n",
       "       [ 45,  78],\n",
       "       [ 49,  81],\n",
       "       [ 64,  88],\n",
       "       [ 65,  90],\n",
       "       [118, 123],\n",
       "       [123, 128]])"
      ]
     },
     "execution_count": 9,
     "metadata": {},
     "output_type": "execute_result"
    }
   ],
   "source": [
    "%matplotlib widget\n",
    "circuit_plot.circuit_plot(cmap2,protid,numbering,cutoff_numcontacts)"
   ]
  },
  {
   "cell_type": "code",
   "execution_count": 17,
   "metadata": {},
   "outputs": [
    {
     "name": "stdout",
     "output_type": "stream",
     "text": [
      "Warning: Cannot change to a different GUI toolkit: widget. Using osx instead.\n"
     ]
    }
   ],
   "source": [
    "%matplotlib widget"
   ]
  },
  {
   "cell_type": "code",
   "execution_count": null,
   "metadata": {},
   "outputs": [],
   "source": []
  }
 ],
 "metadata": {
  "kernelspec": {
   "display_name": "Python 3",
   "language": "python",
   "name": "python3"
  },
  "language_info": {
   "codemirror_mode": {
    "name": "ipython",
    "version": 3
   },
   "file_extension": ".py",
   "mimetype": "text/x-python",
   "name": "python",
   "nbconvert_exporter": "python",
   "pygments_lexer": "ipython3",
   "version": "3.8.5"
  }
 },
 "nbformat": 4,
 "nbformat_minor": 4
}
