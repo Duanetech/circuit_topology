{
 "metadata": {
  "language_info": {
   "codemirror_mode": {
    "name": "ipython",
    "version": 3
   },
   "file_extension": ".py",
   "mimetype": "text/x-python",
   "name": "python",
   "nbconvert_exporter": "python",
   "pygments_lexer": "ipython3",
   "version": "3.8.2-final"
  },
  "orig_nbformat": 2,
  "kernelspec": {
   "name": "python3",
   "display_name": "Python 3.8.2 64-bit",
   "metadata": {
    "interpreter": {
     "hash": "31f2aee4e71d21fbe5cf8b01ff0e069b9275f58929596ceb00d14d90e3e16cd6"
    }
   }
  }
 },
 "nbformat": 4,
 "nbformat_minor": 2,
 "cells": [
  {
   "cell_type": "code",
   "execution_count": 1,
   "metadata": {},
   "outputs": [
    {
     "output_type": "error",
     "ename": "ModuleNotFoundError",
     "evalue": "No module named 'numpy'",
     "traceback": [
      "\u001b[0;31m---------------------------------------------------------------------------\u001b[0m",
      "\u001b[0;31mModuleNotFoundError\u001b[0m                       Traceback (most recent call last)",
      "\u001b[0;32m<ipython-input-1-f2ea1bf53d1b>\u001b[0m in \u001b[0;36m<module>\u001b[0;34m\u001b[0m\n\u001b[0;32m----> 1\u001b[0;31m \u001b[0;32mimport\u001b[0m \u001b[0mnumpy\u001b[0m \u001b[0;32mas\u001b[0m \u001b[0mnp\u001b[0m\u001b[0;34m\u001b[0m\u001b[0;34m\u001b[0m\u001b[0m\n\u001b[0m\u001b[1;32m      2\u001b[0m \u001b[0;32mimport\u001b[0m \u001b[0mos\u001b[0m\u001b[0;34m\u001b[0m\u001b[0;34m\u001b[0m\u001b[0m\n\u001b[1;32m      3\u001b[0m \u001b[0;32mimport\u001b[0m \u001b[0mcsv\u001b[0m\u001b[0;34m\u001b[0m\u001b[0;34m\u001b[0m\u001b[0m\n\u001b[1;32m      4\u001b[0m \u001b[0;32mimport\u001b[0m \u001b[0mmath\u001b[0m\u001b[0;34m\u001b[0m\u001b[0;34m\u001b[0m\u001b[0m\n",
      "\u001b[0;31mModuleNotFoundError\u001b[0m: No module named 'numpy'"
     ]
    }
   ],
   "source": [
    "import numpy as np\n",
    "import os\n",
    "import csv\n",
    "import math"
   ]
  },
  {
   "cell_type": "code",
   "execution_count": 5,
   "metadata": {},
   "outputs": [
    {
     "output_type": "error",
     "ename": "NameError",
     "evalue": "name 'np' is not defined",
     "traceback": [
      "\u001b[0;31m---------------------------------------------------------------------------\u001b[0m",
      "\u001b[0;31mNameError\u001b[0m                                 Traceback (most recent call last)",
      "\u001b[0;32m<ipython-input-5-2c640fbd6de5>\u001b[0m in \u001b[0;36m<module>\u001b[0;34m\u001b[0m\n\u001b[1;32m      9\u001b[0m             \u001b[0mprotidlist\u001b[0m\u001b[0;34m.\u001b[0m\u001b[0mappend\u001b[0m\u001b[0;34m(\u001b[0m\u001b[0mline\u001b[0m\u001b[0;34m.\u001b[0m\u001b[0msplit\u001b[0m\u001b[0;34m(\u001b[0m\u001b[0;32mNone\u001b[0m\u001b[0;34m,\u001b[0m\u001b[0;36m1\u001b[0m\u001b[0;34m)\u001b[0m\u001b[0;34m[\u001b[0m\u001b[0;36m0\u001b[0m\u001b[0;34m]\u001b[0m\u001b[0;34m)\u001b[0m\u001b[0;34m\u001b[0m\u001b[0;34m\u001b[0m\u001b[0m\n\u001b[1;32m     10\u001b[0m \u001b[0;34m\u001b[0m\u001b[0m\n\u001b[0;32m---> 11\u001b[0;31m     \u001b[0mprotidarr\u001b[0m \u001b[0;34m=\u001b[0m \u001b[0mnp\u001b[0m\u001b[0;34m.\u001b[0m\u001b[0marray\u001b[0m\u001b[0;34m(\u001b[0m\u001b[0mprotidlist\u001b[0m\u001b[0;34m,\u001b[0m\u001b[0mdtype\u001b[0m\u001b[0;34m=\u001b[0m\u001b[0;34m'str'\u001b[0m\u001b[0;34m)\u001b[0m\u001b[0;34m\u001b[0m\u001b[0;34m\u001b[0m\u001b[0m\n\u001b[0m\u001b[1;32m     12\u001b[0m \u001b[0;34m\u001b[0m\u001b[0m\n\u001b[1;32m     13\u001b[0m     \u001b[0;31m#The number of parallel(p), series(s) and cross(c) contacts in a protein\u001b[0m\u001b[0;34m\u001b[0m\u001b[0;34m\u001b[0m\u001b[0;34m\u001b[0m\u001b[0m\n",
      "\u001b[0;31mNameError\u001b[0m: name 'np' is not defined"
     ]
    }
   ],
   "source": [
    "#contains all proteinnames and their respective ID's\n",
    "for i in range(5,11):\n",
    "    \n",
    "    count = str(i)\n",
    "    protidlist = []\n",
    "\n",
    "    with open('results/statistics/psc/pscresults'+count+'.txt') as f:\n",
    "        for line in f:\n",
    "            protidlist.append(line.split(None,1)[0])\n",
    "\n",
    "    protidarr = np.array(protidlist,dtype='str')\n",
    "\n",
    "    #The number of parallel(p), series(s) and cross(c) contacts in a protein \n",
    "    psclist = np.genfromtxt('results/statistics/psc/pscresults'+count+'.txt',delimiter=' ',dtype='double')[:,1:]\n",
    "\n",
    "\n",
    "    #Calculates the avg. amount of P, S and C.\n",
    "    mean = np.mean(psclist,axis=0)\n",
    "    mean = np.true_divide(mean,np.sum(mean))\n",
    "\n",
    "    #Utilizes Jaie's square method to calculate a score based on the sum of the squared difference in fractions of relations\n",
    "    for i,row in enumerate(psclist):\n",
    "        row = np.true_divide(row,np.sum(row))\n",
    "        psclist[i] = row\n",
    "        \n",
    "\n",
    "    #compared to the average\n",
    "    jscore_avg =  np.round(1-(np.sum((mean-psclist)**2,axis=1)),5)\n",
    "\n",
    "    #pairwise calculation\n",
    "    jscore_pairwise = np.ones([len(psclist),len(psclist)])\n",
    "\n",
    "    def topology_dis(protid1,protid2):\n",
    "        prot1 = psclist[protid1]\n",
    "        prot2 = psclist[protid2]\n",
    "        score = np.round((1 - np.sum((prot1-prot2)**2)),5)\n",
    "        return score\n",
    "\n",
    "    for i in range(0,len(psclist)):\n",
    "        for j in range(0,len(psclist)):\n",
    "            jscore_pairwise[i][j] = topology_dis(i,j)\n",
    "\n",
    "    np.fill_diagonal(jscore_pairwise,0)\n",
    "    jscore_pairwise[np.where(np.isnan(jscore_pairwise))] = 0\n",
    "\n",
    "    #import tm-align scores from external program\n",
    "    tmalign = np.genfromtxt('/Users/duanemoes/Desktop/Desktop/RP1/Code/Tm_align/tmalign.txt',dtype='str',delimiter=',')\n",
    "    tmalign = np.char.strip(tmalign)\n",
    "    tmalignname = np.array(tmalign[:,0:2],dtype='str')\n",
    "    tmalignscore = np.array(tmalign[:,2:],dtype='double')\n",
    "\n",
    "    #Transposes the data into an array\n",
    "    tmalignarr= np.zeros([len(protidarr),len(protidarr)],dtype='double')\n",
    "\n",
    "    for i,row in enumerate(tmalignname):\n",
    "        prot2 = np.where(protidarr==row[1])[0]\n",
    "        prot1 = np.where(protidarr==row[0])[0]\n",
    "        prot1score = tmalignscore[i,0]\n",
    "        prot2score = tmalignscore[i,1]\n",
    "        tmalignarr[prot1,prot2] = prot1score\n",
    "        tmalignarr[prot2,prot1] = prot2score\n",
    "\n",
    "    #Calculates the difference between the TM-align score and the CT score\n",
    "    def sorta(ls):\n",
    "        ls.sort(key = lambda x: x[2])\n",
    "        return ls\n",
    "        \n",
    "    difference = []\n",
    "\n",
    "    for i in range(0,len(jscore_pairwise)):\n",
    "        for j in range(0,len(jscore_pairwise)):\n",
    "            if i == j:\n",
    "                continue\n",
    "            rslt = (jscore_pairwise[i][j] - tmalignarr[i][j])**2\n",
    "            difference.append([i,j,rslt])\n",
    "\n",
    "    difference = np.array(sorta(difference),dtype=None)\n",
    "\n",
    "    #Finds the 10 proteins that are closest to eachother and 10 that differ the most\n",
    "    top10difference = difference[np.r_[0:10,-10:0]]\n",
    "\n",
    "    #Finds matching protein names\n",
    "    top10protls = []\n",
    "\n",
    "    for row in top10difference:\n",
    "        prot1 = protidarr[int(row[0])]\n",
    "        prot2 = protidarr[int(row[1])]\n",
    "        top10protls.append([prot1, prot2])\n",
    "\n",
    "    #combined normalized scores\n",
    "    scores = np.zeros([20,4],dtype=object)\n",
    "    for i,row in enumerate(top10difference):\n",
    "        scores[i,0] = top10protls[i][0]\n",
    "        scores[i,1] = top10protls[i][1]\n",
    "        scores[i,2] = jscore_pairwise[int(row[0]),int(row[1])]\n",
    "        scores[i,3] = tmalignarr[int(row[0]),int(row[1])]\n",
    "\n",
    "\n",
    "\n",
    "    np.savetxt(\"combinedscores\"+count+'.csv',scores,delimiter=';',fmt='%s,%s,%.5f,%.5f')\n",
    "    i += 1"
   ]
  },
  {
   "cell_type": "code",
   "execution_count": 107,
   "metadata": {},
   "outputs": [],
   "source": [
    "#import tm-align scores from external program\n",
    "tmalign = np.genfromtxt('/Users/duanemoes/Desktop/Desktop/RP1/Code/Tm_align/tmalign.txt',dtype='str',delimiter=',')\n",
    "tmalign = np.char.strip(tmalign)\n",
    "tmalignname = np.array(tmalign[:,0:2],dtype='str')\n",
    "tmalignscore = np.array(tmalign[:,2:],dtype='double')\n",
    "\n",
    "#Transposes the data into an array\n",
    "tmalignarr= np.zeros([len(protidarr),len(protidarr)],dtype='double')\n",
    "\n",
    "for i,row in enumerate(tmalignname):\n",
    "    prot2 = np.where(protidarr==row[1])[0]\n",
    "    prot1 = np.where(protidarr==row[0])[0]\n",
    "    prot1score = tmalignscore[i,0]\n",
    "    prot2score = tmalignscore[i,1]\n",
    "    tmalignarr[prot1,prot2] = prot1score\n",
    "    tmalignarr[prot2,prot1] = prot2score\n",
    "\n",
    "#Calculates the difference between the TM-align score and the CT score\n",
    "def sorta(ls):\n",
    "    ls.sort(key = lambda x: x[2])\n",
    "    return ls\n",
    "    \n",
    "difference = []\n",
    "\n",
    "for i in range(0,len(jscore_pairwise)):\n",
    "    for j in range(0,len(jscore_pairwise)):\n",
    "        if i == j:\n",
    "            continue\n",
    "        rslt = (jscore_pairwise[i][j] - tmalignarr[i][j])**2\n",
    "        difference.append([i,j,rslt])\n",
    "\n",
    "difference = np.array(sorta(difference),dtype=None)\n",
    "\n",
    "#Finds the 10 proteins that are closest to eachother and 10 that differ the most\n",
    "top10difference = difference[np.r_[0:10,-10:0]]\n",
    "\n",
    "#Finds matching protein names\n",
    "top10protls = []\n",
    "\n",
    "for row in top10difference:\n",
    "    prot1 = protidarr[int(row[0])]\n",
    "    prot2 = protidarr[int(row[1])]\n",
    "    top10protls.append([prot1, prot2])\n",
    "\n",
    "#combined normalized scores\n",
    "scores = np.zeros([20,5],dtype=object)\n",
    "for i,row in enumerate(top10difference):\n",
    "    scores[i,0] = top10protls[i][0]\n",
    "    scores[i,1] = top10protls[i][1]\n",
    "    scores[i,2] = jscore_pairwise[int(row[0]),int(row[1])]\n",
    "    scores[i,3] = tmalignarr[int(row[0]),int(row[1])]\n",
    "    scores[i,4] = pdbefoldnew[i][2]\n",
    "\n",
    "np.savetxt(\"combinedscores.csv\",scores,delimiter=';',fmt='%s,%s,%.5f,%.5f,%.5f')"
   ]
  },
  {
   "cell_type": "code",
   "execution_count": 108,
   "metadata": {},
   "outputs": [],
   "source": [
    "#Calculates the difference between the TM-align score and the CT score\n",
    "def sorta(ls):\n",
    "    ls.sort(key = lambda x: x[2])\n",
    "    return ls\n",
    "    \n",
    "difference = []\n",
    "\n",
    "for i in range(0,len(jscore_pairwise)):\n",
    "    for j in range(0,len(jscore_pairwise)):\n",
    "        if i == j:\n",
    "            continue\n",
    "        rslt = (jscore_pairwise[i][j] - tmalignarr[i][j])**2\n",
    "        difference.append([i,j,rslt])\n",
    "\n",
    "difference = np.array(sorta(difference),dtype=None)\n",
    "\n",
    "#Finds the 10 proteins that are closest to eachother and 10 that differ the most\n",
    "top10difference = difference[np.r_[0:10,-10:0]]\n",
    "\n",
    "#Finds matching protein names\n",
    "top10protls = []\n",
    "\n",
    "for row in top10difference:\n",
    "    prot1 = protidarr[int(row[0])]\n",
    "    prot2 = protidarr[int(row[1])]\n",
    "    top10protls.append([prot1, prot2])\n",
    "\n",
    "#combined normalized scores\n",
    "scores = np.zeros([20,5],dtype=object)\n",
    "for i,row in enumerate(top10difference):\n",
    "    scores[i,0] = top10protls[i][0]\n",
    "    scores[i,1] = top10protls[i][1]\n",
    "    scores[i,2] = jscore_pairwise[int(row[0]),int(row[1])]\n",
    "    scores[i,3] = tmalignarr[int(row[0]),int(row[1])]\n",
    "    scores[i,4] = pdbefoldnew[i][2]\n",
    "\n",
    "np.savetxt(\"combinedscores.csv\",scores,delimiter=';',fmt='%s,%s,%.5f,%.5f,%.5f')\n"
   ]
  },
  {
   "cell_type": "code",
   "execution_count": 111,
   "metadata": {},
   "outputs": [],
   "source": [
    "#PDBefold scores\n",
    "#Creates a txt files with all the top 10 pairs, to be used as input in PDBefold\n",
    "with open('/Users/duanemoes/Desktop/Desktop/RP1/Code/pdbefold/ls.txt',\"w\") as f:\n",
    "    for row in top10protls:\n",
    "        f.write(f'{row[0]}.pdb {row[1]}.pdb\\n')\n",
    "\n",
    "#PDBefold output scores \n",
    "pdbefold = []\n",
    "with open('/Users/duanemoes/Desktop/Desktop/RP1/Code/pdbefold/results.txt') as f:\n",
    "    for line in f:\n",
    "        x = line.split()\n",
    "        pdbefold.append([x[1],x[2],x[0]])\n",
    "\n",
    "for i in range(0,len(pdbefold)):\n",
    "    pdbefold[i][0] = list(np.where(protidarr == pdbefold[i][0])[0])[0]\n",
    "    pdbefold[i][1] = list(np.where(protidarr == pdbefold[i][1])[0])[0]\n",
    "    #here we normalize the scores from range [0,16] --> [0,1]\n",
    "    pdbefold[i][2] = float(pdbefold[i][2])/16\n",
    "\n",
    "pdbefold = np.array(pdbefold)\n",
    "\n",
    "#Sorts pdbefold values based on top 10 difference results\n",
    "toptest = np.sum(top10difference[:,0:2],axis=1)\n",
    "pdbtest1 = np.sum(pdbefold[:,0:2],axis=1)\n",
    "\n",
    "pdbefoldnew = np.array(pdbefold)\n",
    "for i in range(0,len(pdbefold)):\n",
    "    x = np.where(toptest == pdbtest1[i])\n",
    "    pdbefoldnew[x] = pdbefold[i] "
   ]
  },
  {
   "cell_type": "code",
   "execution_count": 112,
   "metadata": {},
   "outputs": [],
   "source": [
    "#combined normalized scores\n",
    "scores = np.zeros([20,5],dtype=object)\n",
    "for i,row in enumerate(top10difference):\n",
    "    scores[i,0] = top10protls[i][0]\n",
    "    scores[i,1] = top10protls[i][1]\n",
    "    scores[i,2] = jscore_pairwise[int(row[0]),int(row[1])]\n",
    "    scores[i,3] = tmalignarr[int(row[0]),int(row[1])]\n",
    "    scores[i,4] = pdbefoldnew[i][2]\n",
    "\n",
    "np.savetxt(\"combinedscores.csv\",scores,delimiter=';',fmt='%s,%s,%.5f,%.5f,%.5f')"
   ]
  },
  {
   "cell_type": "code",
   "execution_count": 35,
   "metadata": {},
   "outputs": [],
   "source": [
    "#6 randomized sets of 20 proteins selected for PDBefold\n",
    "sets = []\n",
    "sets.append(np.random.choice(protidlist,20))\n",
    "sets.append(np.random.choice(protidlist,20))\n",
    "sets.append(np.random.choice(protidlist,20))\n",
    "sets.append(np.random.choice(protidlist,20))\n",
    "sets.append(np.random.choice(protidlist,20))\n",
    "sets.append(np.random.choice(protidlist,20))\n"
   ]
  },
  {
   "cell_type": "code",
   "execution_count": 45,
   "metadata": {},
   "outputs": [
    {
     "output_type": "stream",
     "name": "stdout",
     "text": [
      "0\n1\n2\n3\n4\n5\n"
     ]
    }
   ],
   "source": [
    "#Create 5 separte pair files to be used for PDBefold\n",
    "for a in range(0,len(sets)):\n",
    "    f = open(\"set%i.txt\" % a, \"w\")\n",
    "    for i in range(0,len(set1)):\n",
    "        for j in range(0,len(set1)):\n",
    "            if i == j:\n",
    "                continue\n",
    "            f.write(\"%s.pdb %s.pdb\\n\" % (sets[a][i],sets[a][j]))    "
   ]
  },
  {
   "cell_type": "code",
   "execution_count": 56,
   "metadata": {},
   "outputs": [],
   "source": [
    "pdbefoldrandom = []\n",
    "for x in range(0,6):\n",
    "    with open('/Users/duanemoes/Desktop/Desktop/RP1/Code/pdbefold/results%i.txt' % x) as f:\n",
    "        for line in f:\n",
    "            a = line.split()\n",
    "            a[-2] = a[-2][0:4]\n",
    "            a[-1] = a[-1][0:4]\n",
    "            pdbefoldrandom.append([a[-2],a[-1],a[3]])\n",
    "            \n",
    "        \n",
    "        \n"
   ]
  },
  {
   "cell_type": "code",
   "execution_count": 105,
   "metadata": {
    "tags": []
   },
   "outputs": [],
   "source": [
    "protpdb = np.array(pdbefoldrandom)[:,:2]\n",
    "\n",
    "for i in range(0,6):\n",
    "    with open('/Users/duanemoes/Desktop/Desktop/RP1/Code/pdbefold/set%i.txt' % i) as f:\n",
    "        for line in f:\n",
    "            a = line.split()\n",
    "            a[0] = a[0][0:4]\n",
    "            a[1] = a[1][0:4]\n",
    "            if a in protpdb:\n",
    "                continue\n",
    "            else:\n",
    "                print('no')\n",
    "            #if a not in protpdb:\n",
    "                #print('found')\n",
    "                #pdbefoldrandom.append([a[0],a[1],0])\n",
    "            \n"
   ]
  },
  {
   "cell_type": "code",
   "execution_count": 1,
   "metadata": {},
   "outputs": [
    {
     "output_type": "stream",
     "name": "stdout",
     "text": [
      "5\n6\n7\n8\n9\n10\n"
     ]
    }
   ],
   "source": [
    "for i in range(5,11):\n",
    "    print(i)"
   ]
  },
  {
   "cell_type": "code",
   "execution_count": null,
   "metadata": {},
   "outputs": [],
   "source": []
  }
 ]
}